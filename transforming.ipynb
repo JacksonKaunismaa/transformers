{
 "cells": [
  {
   "cell_type": "code",
   "execution_count": 1,
   "id": "62986149",
   "metadata": {},
   "outputs": [
    {
     "name": "stdout",
     "output_type": "stream",
     "text": [
      "Modules to reload:\n",
      "transforming.config_objects transforming.data transforming.encoder transforming.network transforming.train\n",
      "\n",
      "Modules to skip:\n",
      "\n"
     ]
    }
   ],
   "source": [
    "import torch\n",
    "import os.path as osp\n",
    "import pickle\n",
    "import matplotlib.pyplot as plt\n",
    "import numpy as np\n",
    "\n",
    "# import transformers\n",
    "from transforming.train import run_experiment\n",
    "from transforming.config_objects import ExperimentCfg, DatasetCfg\n",
    "from transforming.data import IdxDataset\n",
    "from transforming.encoder import get_encoder\n",
    "from transforming.network import Transformer\n",
    "from transforming import utils\n",
    "from transforming import metrics\n",
    "\n",
    "\n",
    "device = \"cuda\" if torch.cuda.is_available() else \"cpu\"\n",
    "\n",
    "# set up autoreloading of shared code\n",
    "%load_ext autoreload\n",
    "%autoreload 1\n",
    "%aimport transforming.train,transforming.config_objects,transforming.data,transforming.encoder,transforming.network\n",
    "%aimport"
   ]
  },
  {
   "cell_type": "code",
   "execution_count": 2,
   "id": "57dbb109",
   "metadata": {},
   "outputs": [],
   "source": [
    "data_dir = \"/scratch/ssd004/scratch/jackk/1-billion-word-language-modeling-benchmark-r13output\"\n",
    "\n",
    "exp_config = ExperimentCfg(vec_size=1536,\n",
    "                            n_layer=12,\n",
    "                            n_heads=12,\n",
    "                            lr_max=2e-4,\n",
    "                            lr_min=1e-7,\n",
    "                            block_size=1024,\n",
    "                            batch_size=2,\n",
    "                            grad_accum_steps=128,\n",
    "                            train_steps=500, # num macro batches\n",
    "                            num_eval=300,  # num micro batches\n",
    "                            dtype=\"float16\",\n",
    "                            compile=True,\n",
    "                            zero=True,\n",
    "                            checkpointing=False,\n",
    "                            normalizer_type=\"RMSNorm\",\n",
    "                            rmsnorm_p=0.2,\n",
    "                            layer_norm_posn=\"pre\",\n",
    "                            posn_embed_type=\"relative\",\n",
    "                            posn_embed_learnable=False,\n",
    "                            flash=False,\n",
    "                            learnable_unembed=False\n",
    "                            )\n",
    "if False:  # if dry run, overwrite config with dry_run config\n",
    "    exp_config = exp_config.get_dry()\n",
    "\n",
    "exp_config.ddp = False\n",
    "\n",
    "dset_config = DatasetCfg(dataset_path=data_dir,\n",
    "                        num_workers=4\n",
    "                        )\n",
    "\n",
    "datasets = dict(train=IdxDataset(\"train.bin\", exp_config, dset_config),\n",
    "                eval=IdxDataset(\"eval.bin\", exp_config, dset_config))\n"
   ]
  },
  {
   "cell_type": "code",
   "execution_count": 3,
   "id": "f1f5e86c",
   "metadata": {},
   "outputs": [
    {
     "name": "stdout",
     "output_type": "stream",
     "text": [
      "rank 0 cuda deiece\n",
      "Num parameters: 445.390848 M\n",
      "Approximate expected train vram usage: 2.60 GB\n",
      "Found path of /scratch/ssd004/scratch/jackk/1-billion-word-language-modeling-benchmark-r13output/actual-nanner.ckpt\n",
      "rank 0 odict_keys(['relative_posn_embed', 'shift_indices', 'causal_mask', 'embed.weight', 'blocks.0.ln1.scale', 'blocks.0.mha.posn_vect_u', 'blocks.0.mha.posn_vect_v', 'blocks.0.mha.posn_key_mat.weight', 'blocks.0.mha.qkv.weight', 'blocks.0.mha.out.weight', 'blocks.0.ln2.scale', 'blocks.0.mlp.w_1.weight', 'blocks.0.mlp.w_2.weight', 'blocks.1.ln1.scale', 'blocks.1.mha.posn_vect_u', 'blocks.1.mha.posn_vect_v', 'blocks.1.mha.posn_key_mat.weight', 'blocks.1.mha.qkv.weight', 'blocks.1.mha.out.weight', 'blocks.1.ln2.scale', 'blocks.1.mlp.w_1.weight', 'blocks.1.mlp.w_2.weight', 'blocks.2.ln1.scale', 'blocks.2.mha.posn_vect_u', 'blocks.2.mha.posn_vect_v', 'blocks.2.mha.posn_key_mat.weight', 'blocks.2.mha.qkv.weight', 'blocks.2.mha.out.weight', 'blocks.2.ln2.scale', 'blocks.2.mlp.w_1.weight', 'blocks.2.mlp.w_2.weight', 'blocks.3.ln1.scale', 'blocks.3.mha.posn_vect_u', 'blocks.3.mha.posn_vect_v', 'blocks.3.mha.posn_key_mat.weight', 'blocks.3.mha.qkv.weight', 'blocks.3.mha.out.weight', 'blocks.3.ln2.scale', 'blocks.3.mlp.w_1.weight', 'blocks.3.mlp.w_2.weight', 'blocks.4.ln1.scale', 'blocks.4.mha.posn_vect_u', 'blocks.4.mha.posn_vect_v', 'blocks.4.mha.posn_key_mat.weight', 'blocks.4.mha.qkv.weight', 'blocks.4.mha.out.weight', 'blocks.4.ln2.scale', 'blocks.4.mlp.w_1.weight', 'blocks.4.mlp.w_2.weight', 'blocks.5.ln1.scale', 'blocks.5.mha.posn_vect_u', 'blocks.5.mha.posn_vect_v', 'blocks.5.mha.posn_key_mat.weight', 'blocks.5.mha.qkv.weight', 'blocks.5.mha.out.weight', 'blocks.5.ln2.scale', 'blocks.5.mlp.w_1.weight', 'blocks.5.mlp.w_2.weight', 'blocks.6.ln1.scale', 'blocks.6.mha.posn_vect_u', 'blocks.6.mha.posn_vect_v', 'blocks.6.mha.posn_key_mat.weight', 'blocks.6.mha.qkv.weight', 'blocks.6.mha.out.weight', 'blocks.6.ln2.scale', 'blocks.6.mlp.w_1.weight', 'blocks.6.mlp.w_2.weight', 'blocks.7.ln1.scale', 'blocks.7.mha.posn_vect_u', 'blocks.7.mha.posn_vect_v', 'blocks.7.mha.posn_key_mat.weight', 'blocks.7.mha.qkv.weight', 'blocks.7.mha.out.weight', 'blocks.7.ln2.scale', 'blocks.7.mlp.w_1.weight', 'blocks.7.mlp.w_2.weight', 'blocks.8.ln1.scale', 'blocks.8.mha.posn_vect_u', 'blocks.8.mha.posn_vect_v', 'blocks.8.mha.posn_key_mat.weight', 'blocks.8.mha.qkv.weight', 'blocks.8.mha.out.weight', 'blocks.8.ln2.scale', 'blocks.8.mlp.w_1.weight', 'blocks.8.mlp.w_2.weight', 'blocks.9.ln1.scale', 'blocks.9.mha.posn_vect_u', 'blocks.9.mha.posn_vect_v', 'blocks.9.mha.posn_key_mat.weight', 'blocks.9.mha.qkv.weight', 'blocks.9.mha.out.weight', 'blocks.9.ln2.scale', 'blocks.9.mlp.w_1.weight', 'blocks.9.mlp.w_2.weight', 'blocks.10.ln1.scale', 'blocks.10.mha.posn_vect_u', 'blocks.10.mha.posn_vect_v', 'blocks.10.mha.posn_key_mat.weight', 'blocks.10.mha.qkv.weight', 'blocks.10.mha.out.weight', 'blocks.10.ln2.scale', 'blocks.10.mlp.w_1.weight', 'blocks.10.mlp.w_2.weight', 'blocks.11.ln1.scale', 'blocks.11.mha.posn_vect_u', 'blocks.11.mha.posn_vect_v', 'blocks.11.mha.posn_key_mat.weight', 'blocks.11.mha.qkv.weight', 'blocks.11.mha.out.weight', 'blocks.11.ln2.scale', 'blocks.11.mlp.w_1.weight', 'blocks.11.mlp.w_2.weight'])\n",
      "rank 0 keys dict_keys(['model', 'cfg', 'dset_cfg', 'best_loss', 'optim', 'scaler', 'sched'])\n",
      "rank 0 is loading to cuda:0\n"
     ]
    },
    {
     "data": {
      "text/plain": [
       "Transformer(\n",
       "  (embed): Embedding(50304, 1536)\n",
       "  (blocks): ModuleList(\n",
       "    (0-11): 12 x TransformerBlock(\n",
       "      (ln1): CustomNormalizer()\n",
       "      (mha): MultiHeadAttention(\n",
       "        (posn_key_mat): Linear(in_features=1536, out_features=1536, bias=False)\n",
       "        (qkv): Linear(in_features=1536, out_features=4608, bias=False)\n",
       "        (out): Linear(in_features=1536, out_features=1536, bias=False)\n",
       "        (attn_dropout): Dropout(p=0, inplace=False)\n",
       "        (out_dropout): Dropout(p=0, inplace=False)\n",
       "      )\n",
       "      (ln2): CustomNormalizer()\n",
       "      (mlp): MLPBlock(\n",
       "        (w_1): Linear(in_features=1536, out_features=6144, bias=False)\n",
       "        (act_func): GELU(approximate='none')\n",
       "        (w_2): Linear(in_features=6144, out_features=1536, bias=False)\n",
       "        (dropout): Dropout(p=0, inplace=False)\n",
       "      )\n",
       "    )\n",
       "  )\n",
       ")"
      ]
     },
     "execution_count": 3,
     "metadata": {},
     "output_type": "execute_result"
    }
   ],
   "source": [
    "net = Transformer(\"/scratch/ssd004/scratch/jackk/1-billion-word-language-modeling-benchmark-r13output/actual-nanner.ckpt\", exp_config, datasets[\"train\"].cfg).to(\"cuda:0\")\n",
    "net.load_model_state_dict(\"cuda:0\")\n",
    "net.eval()"
   ]
  },
  {
   "cell_type": "code",
   "execution_count": 18,
   "id": "b66ec016",
   "metadata": {},
   "outputs": [],
   "source": [
    "from operator import mul\n",
    "from functools import reduce\n",
    "results = {}\n",
    "for name, p in net.named_parameters():\n",
    "    total_size = reduce(mul, p.shape)\n",
    "    # n_nan = p.isnan().sum()\n",
    "    # results[name] = n_nan/total_size\n",
    "    num_select = int(0.05 * total_size)\n",
    "    results[name] = torch.topk(abs(p).flatten(), num_select).values"
   ]
  },
  {
   "cell_type": "code",
   "execution_count": 4,
   "id": "478887a9",
   "metadata": {},
   "outputs": [
    {
     "name": "stdout",
     "output_type": "stream",
     "text": [
      "tensor([ 1802,  1661,  5443,  ...,   198, 50258,     1], dtype=torch.int32)\n",
      "[' 100', ' times', ' faster', ' than', ' had', ' earlier', ' been', ' predicted', ' .', '\\n', '<EOS>', 'They', ' get', ' 3', ' percent', ' ,', ' the', ' same', ' cut', ' they', ' would', ' earn', ' on', ' a', ' 6', ' percent', ' deal', ' .', '\\n', '<EOS>', 'The', ' blast', ' ripped', ' through', ' a', ' market', ' near', ' the', ' home', ' of', ' a', ' politician', ' in', ' the', ' town', ' of', ' D', 'era', ' Gh', 'azi', ' Khan', ' on', ' Tuesday', ' .', '\\n', '<EOS>', 'M', 'arijuana', ' was', ' the', ' most', ' popular', ' by', ' far', ' ,', ' with', ' 14', '.', '4', ' million', ' acknowledging', ' use', ' of', ' marijuana', ' in', ' the', ' past', ' month', ' .', '\\n', '<EOS>', 'Active', ' video', ' sports', ' games', ' burn', ' calories', ' ,', ' but', ' not', ' as', ' much', ' as', ' the', ' real', ' thing', ' .', '\\n', '<EOS>', 'THE', ' key', ' element', ' of', ' the', ' Stage', 'co', 'ach', ' scheme', ' which', ' has', ' brought', ' it', ' the', ' support', ' of', ' environmentalists', ' and', ' scientists', ' is', ' that', ' it', ' recy', 'cles', ' a', ' waste', ' product', ' which', ' would', ' otherwise', ' simply', ' be', ' sent', ' to', ' landfill', ' .', '\\n', '<EOS>', 'The', ' scoring', ' average', ' of', ' the', ' men', ' paired', ' with', ' him', ' in', ' the', ' final', ' round', ' of', ' majors', ' told', ' the', ' whole', ' story', ' :', ' 73', '.', '14', ' ,', ' to', ' his', ' 69', '.', '50', ' .', '\\n', '<EOS>', 'Bed', 'ford', ' wives', ' do', ' not', ' experience', ' the', ' trials', ' of', ' how', ' to', ' pay', ' the', ' rent', ' or', ' educate', ' their', ' children', ' .', '\\n', '<EOS>', 'Gas', 'quet', ' pulled', ' out', ' of', ' his', ' opening', ' match', ' in', ' Miami', ' against', ' Spain', \" '\", 's', ' Albert', ' Mont', 'anes', ' because', ' of', ' a', ' shoulder', ' injury', ' .', '\\n', '<EOS>', 'BA', 'G', 'HD', 'AD', ' (', ' AP', ' )', ' -', ' Twin', ' car', ' bombs', ' targeted', ' a', ' meeting', ' of', ' U', '.', 'S', '.-', 'all', 'ied', ' Sunni', ' tribal', ' leaders', ' Monday', ' in', ' Baghdad', ' ,', ' killing', ' at', ' least', ' 14', ' and', ' wounding', ' 45', ' ,', ' a', ' military', ' spokesman', ' said', ' .', '\\n', '<EOS>', 'Some', ' commenters', ' took', ' um', 'br', 'age', ' at', ' this', ' suggestion', ' and', ' thought', ' I', ' was', ' equ', 'ating', ' community', ' organizing', ' with', ' putting', ' oneself', ' in', ' harm', \" '\", 's', ' way', ' as', ' a', ' soldier', ' .', '\\n', '<EOS>', 'Third', ' ,', ' a', ' foreign', ' takeover', ' does', ' not', ' necessarily', ' mean', ' a', ' loss', ' of', ' technical', ' expertise', ' .', '\\n', '<EOS>', 'The', ' U', '.', 'S', '.', ' dollar', ' weakened', ' across', ' the', ' board', ' ,', ' suggesting', ' the', ' inverse', ' relationship', ' between', ' equ', 'ities', ' and', ' the', ' dollar', ' was', ' holding', ' up', ' despite', ' soft', 'ening', ' a', ' bit', ' after', ' the', ' July', ' U', '.', 'S', '.', ' payroll', 's', ' number', ' on', ' Friday', ' led', ' to', ' increased', ' bets', ' on', ' higher', ' U', '.', 'S', '.', ' interest', ' rates', ' .', '\\n', '<EOS>', 'And', ' many', ' said', ' their', ' tattoos', ' had', ' caused', ' them', ' embarrassment', ' ,', ' drawn', ' negative', ' comments', ' and', ' created', ' problems', ' when', ' choosing', ' clothing', ' to', ' cover', ' them', ' up', ' .', '\\n', '<EOS>', 'Mr', ' Mer', 'z', \" '\", 's', ' actions', ' were', ' particularly', ' sensitive', ' because', ' in', ' Switzerland', \" '\", 's', ' decentral', 'ised', ' political', ' system', ' justice', ' is', ' a', ' matter', ' for', ' regional', ' rather', ' than', ' federal', ' government', ' .', '\\n', '<EOS>', 'Nearly', ' three', '-', 'four', 'ths', ' of', ' African', '-', 'Americans', ' can', ' trace', ' their', ' ancestry', ' to', ' West', ' Africa', ' ,', ' according', ' to', ' the', ' analysis', ' published', ' in', ' the', ' online', ' edition', ' of', ' the', ' journal', ' Science', ' .', '\\n', '<EOS>', 'We', ' have', ' introduced', ' a', ' clinical', ' data', ' set', ' ,', ' so', ' we', ' know', ' in', ' great', ' detail', ' what', ' is', ' going', ' on', ' within', ' each', ' band', ' of', ' treatment', ' .', '\\n', '<EOS>', 'Mrs', '.', ' Clinton', ' accepted', ' --', ' or', ' seemed', ' unaware', ' of', ' --', ' the', ' intense', ' fact', 'ional', 'ism', ' and', ' feud', 'ing', ' that', ' often', ' paralyzed', ' her', ' campaign', ' and', ' that', ' prevented', ' her', ' aides', ' from', ' reaching', ' consensus', ' on', ' basic', ' questions', ' like', ' what', ' states', ' to', ' fight', ' in', ' and', ' how', ' to', ' go', ' after', ' Mr', '.', ' Obama', ' ,', ' of', ' Illinois', ' .', '\\n', '<EOS>', 'Former', ' US', ' president', ' Jimmy', ' Carter', ' in', ' early', ' April', ' held', ' meetings', ' in', ' Damascus', ' with', ' exiled', ' Hamas', ' political', ' chief', ' Kh', 'aled', ' Mes', 'ha', 'al', ' ,', ' anger', 'ing', ' Israel', ' and', ' the', ' United', ' States', ' .', '\\n', '<EOS>', 'However', ' ,', ' the', ' crowd', \" '\", 's', ' fun', ' was', ' finally', ' ended', ' when', ' Johnson', ' switched', ' to', ' round', ' the', ' w', 'icket', ' and', ' Anderson', ' edged', ' to', ' g', 'ully', ' .', '\\n', '<EOS>', 'I', 'ber', 'd', 'rol', 'a', ' Renew', 'ables', \" '\", ' chief', ' executive', ' ,', ' X', 'ab', 'ier', ' V', 'iter', 'i', ' ,', ' whose', ' Spanish', ' parent', ' owns', ' Scottish', 'Power', ' ,', ' blamed', ' the', ' economic', ' crisis', ' for', ' the', ' cut', 'back', ' ,', ' The', ' Times', ' re', 'op', 'r', 'ted', ' .', '\\n', '<EOS>', 'The', ' final', ' rankings', ' before', ' the', ' U', '.', 'S', '.', ' Open', ' saw', ' no', ' change', ' among', ' the', ' top', ' 16', ' spots', ' .', '\\n', '<EOS>', 'Facebook', ' may', ' have', ' pleased', ' pro', '-', 'Israel', ' users', ' there', ' by', ' giving', ' them', ' the', ' choice', ' to', ' say', ' where', ' they', ' live', ' ,', ' but', ' not', ' all', ' Syrians', ' were', ' happy', ' about', ' the', ' change', ' .', '\\n', '<EOS>', 'Contribut', 'ions', ' have', ' dried', ' up', ' .', '\\n', '<EOS>', 'More', ' than', ' 151', ' million', ' viewers', ' in', ' the', ' United', ' States', ' watched', ' last', ' year', \" '\", 's', ' show', ' .', '\\n', '<EOS>', '29', ' ,', ' 1912', ' ,', ' in', ' Winchester', ' ,', ' Tenn', ' .', '\\n', '<EOS>', 'The', ' two', ' countries', ' have', ' agreed', ' to', ' set', ' up', ' contact', ' points', ' to', ' share', ' information', ' ,', ' Sh', 'iger', 'u', ' H', 'otta', ' ,', ' assistant', ' vice', ' minister', ' for', ' quality', ' of', ' life', ' policy', ' at', ' Japan', \" '\", 's', ' Cabinet', ' Office', ' ,', ' said', ' during', ' a', ' news', ' conference', ' wrapping', ' up', ' talks', ' between', ' Japanese', ' and', ' Chinese', ' food', ' safety', ' officials', ' in', ' Tokyo', ' .', '\\n', '<EOS>', 'The', ' publication', ' of', ' Zhao', \" '\", 's', ' memoir', 's', ' ,', ' \"', ' Prison', 'er', ' of', ' the', ' State', ' :', ' The', ' Secret', ' Journal', ' of', ' Chinese', ' Premier', ' Zhao', ' Z', 'iy', 'ang', ' ,', ' \"', ' raise', ' hope', ' that', ' there', ' will', ' be', ' a', ' revival', ' of', ' public', ' interest', ' and', ' debate', ' on', ' what', ' happened', ' in', ' 1989', ' .', '\\n', '<EOS>', 'S', 'eb', 'ast', 'ien', ' Dor', 'zee', ' ,', ' a', ' French', ' policeman', ' ,', ' said', ' the', ' princess', ' muttered', ' \"', ' My', ' God', ' \"', ' because', ' she', ' realised', ' what', ' was', ' happening', ' .', '\\n', '<EOS>', 'I', 'sh', 'im', 'atsu', ' ,', ' who', ' likely', ' will', ' be', ' selected', ' for', ' the', ' second', ' 10', '-', 'meter', ' spot', ' at', ' a', ' camp', ' that', ' begins', ' next', ' week', ' in', ' Knox', 'ville', ' ,', ' Tenn', ' .', ' ,', ' was', ' second', ' with', ' 1', ',', '140', '.', '40', ' .', '\\n', '<EOS>', 'Special', 'ists', ' in', ' mental', ' skills', ' tend', ' to', ' be', ' called', ' upon', ' as', ' a', ' last', ' resort', ' when', ' things', ' are', ' going', ' badly', ' wrong', ' ,', ' as', ' opposed', ' to', ' going', ' well', ' .', '\\n', '<EOS>', 'Sign', 's', ' that', ' banks', ' are', ' beginning', ' to', ' open', ' their', ' doors', ' to', ' commercial', ' property', ' companies', ' and', ' a', ' rise', ' in', ' demand', ' from', ' foreign', ' investors', ' for', ' offices', ' in', ' Central', ' London', ' have', ' prompted', ' claims', ' that', ' the', ' next', ' bubble', ' in', ' values', ' may', ' already', ' be', ' forming', ' .', '\\n', '<EOS>', 'For', ' all', ' that', ' ,', ' David', ' Perry', ' ,', ' a', ' spokesman', ' for', ' the', ' relay', ' organizers', ' ,', ' said', ' he', ' believed', ' pro', '-', 'Chinese', ' ,', ' pro', '-', 'O', 'lymp', 'ic', ' forces', ' would', ' out', 'number', ' the', ' anti', '-', 'tor', 'ch', ' groups', ' .', '\\n', '<EOS>', 'In', ' fairness', ' ,', ' Goldman', ' gives', ' a', ' reasonable', ' account', ' of', ' itself', ' .', '\\n', '<EOS>', '\"']\n"
     ]
    }
   ],
   "source": [
    "example = datasets[\"train\"][4]\n",
    "encoder = datasets[\"train\"].encoder\n",
    "print(example[0])\n",
    "print(encoder.decode(example[0].numpy(), split=True))"
   ]
  },
  {
   "cell_type": "code",
   "execution_count": 213,
   "id": "103813c8",
   "metadata": {},
   "outputs": [
    {
     "name": "stdout",
     "output_type": "stream",
     "text": [
      "0 tensor([4.8999, 4.8426, 4.6623, 4.6430, 4.5819], device='cuda:0') tensor(1239.3553, device='cuda:0')\n",
      "1 tensor([854.5972, 853.1455, 846.0417, 844.4131, 833.4072], device='cuda:0') tensor(9714.4561, device='cuda:0')\n",
      "2 tensor([849.2139, 847.7581, 840.6675, 839.0002, 828.0205], device='cuda:0') tensor(9622.4629, device='cuda:0')\n",
      "3 tensor([844.9639, 843.5618, 836.3745, 834.7883, 823.8926], device='cuda:0') tensor(9553.5986, device='cuda:0')\n",
      "4 tensor([844.6333, 843.2234, 835.9741, 834.4314, 823.6836], device='cuda:0') tensor(9538.2891, device='cuda:0')\n",
      "5 tensor([842.5044, 841.1294, 833.8311, 832.3523, 821.6130], device='cuda:0') tensor(9506.3281, device='cuda:0')\n",
      "6 tensor([842.1406, 840.8294, 833.6450, 831.9567, 821.3789], device='cuda:0') tensor(9499.5195, device='cuda:0')\n",
      "7 tensor([841.6052, 840.2423, 833.0636, 831.4277, 821.0541], device='cuda:0') tensor(9493.9004, device='cuda:0')\n",
      "8 tensor([839.2919, 837.9253, 830.7991, 829.1014, 819.1069], device='cuda:0') tensor(9462.3857, device='cuda:0')\n",
      "9 tensor([838.7365, 837.3545, 830.2918, 828.5184, 818.7640], device='cuda:0') tensor(9455.1123, device='cuda:0')\n",
      "10 tensor([838.4220, 837.0256, 829.9888, 828.1911, 818.5222], device='cuda:0') tensor(9450.5625, device='cuda:0')\n",
      "11 tensor([837.7611, 836.3340, 829.3662, 827.4970, 818.0009], device='cuda:0') tensor(9442.3184, device='cuda:0')\n"
     ]
    }
   ],
   "source": [
    "with torch.no_grad():\n",
    "    net.train()\n",
    "    final = net(example[0].cuda(0).unsqueeze(0)).squeeze()"
   ]
  },
  {
   "cell_type": "code",
   "execution_count": 212,
   "id": "effd173f",
   "metadata": {},
   "outputs": [
    {
     "data": {
      "text/plain": [
       "', , than in a , expected ,\\n<EOS>He \\' a. , and survey , , \\' have , , year , , ,\\n<EOS>I company , , a window , the city , a man , a middle of Heera ,azi , , Tuesday ,\\n<EOS>IIL , a first common , the , and a.2 percent , , , the , the U , ,\\n<EOS>A , , , , , , and not enough much as , number- ,\\n<EOS>A H , of this deal \\'ach \\' , will been a , first of , , , , , , \\'cles , lot , , will make be be , , , .\\n<EOS>A government , , a first \\' with a , the final seconds , . , The Times thing , \" ,7 , and , first.20 ,\\n<EOS>Aford , , not , , \" , , they treat , extra , how , children ,\\n<EOS>Aoline , in of the first practice , the , the ,s Martin Montanes , of a knee , ,\\n<EOS>AGHDAD , AP ) - The , , , at U of Iraq.S.led , U , elders , , Baghdad , and at least five , , , , and U spokesman said .\\n<EOS>I of , a , , , the time , , , \\' , , , , , , in in , \\' , way , \\' whole ,\\n<EOS>A , they lot policy , not mean mean , return , , , ,\\n<EOS>A former.S. , , against the U , but that U , , globalities and the economy , , up , a , , fall , the U ,.S. financial , report , Friday , to a , , the ,.S. consumer rates ,\\n<EOS>A , of , own , already a , , and , , , , a , they , , , , , ,\\n<EOS>A.rick ,s comments , not acute , of the ,s case , , system , , , lack of , , than , , ,\\n<EOS>A half decadesquartersths of ,-American , \\' , own , , , , and\\n a study , yesterday the journal edition of\\n journal , .\\n<EOS>A \\' to a new trial , in and that \\' , this , , we , , , , , , , ,\\n<EOS>A. Clinton , , and , , -- -- that question , that , , , , , , , , , , , , her , . getting , , , , , , she , , , , , , make , ,. Obama \\' and course ,\\n<EOS>A President President , Carter , a 2009 , a with London , President former , and ,aled ,ha , , whoing him \\' a United States ,\\n<EOS>A , he government ,s parents , , , , he , , a , worldicket , , \\' to .ully ,\\n<EOS>A \\'ia , , ,ables , , executive , whostr , , , , , said shares- , , , , said the \" crisis , the global , , and Times of- , , .\\n<EOS>A former , , , final.S. , , him evidence , others first 10 , ,\\n<EOS>A , not , with-life , , , , up a chance , , , they \\' , and they , , , , , , outcome ,\\n<EOS>Aing , been up ,\\n<EOS>A than half, people , the United States , , week \\'s show ,\\n<EOS>A , and , and a , and .\\n<EOS>A former- , said to , up a with , , , , andro , , , , and , president , the , life , , the \\'s School , , and . a news briefing . , , with the and Chinese officials , , , Beijing ,\\n<EOS>A former , , \\'s report , , published The , , , Year , The Children , , , , , , ,ang , , , questions , , will be , question in , opinion , , , whether , , the ,\\n<EOS>Aally , , ,an , who spokesman , , said he woman , , , , , and , \\' that she , ,\\n<EOS>A \\' , , , who said , be , , next next time , , ( , the time , will next week , a \\' , and .\\n , , , $ :200 ,20 ,\\n<EOS>A , , the health , to be more , , a means resort , , are , , , , and they to , , ,\\n<EOS>Aing of , will , to look , own , , real , , , lack in the , companies investors , , , China and , , , , , government stage , the , not be , ,\\n<EOS>A more , , he Cameron , who former , the U , , said , \\' ,-life , gay-life \\'ics , , notnumber , U-d , , ,\\n<EOS>A a , he \\' a good , , what ,\\n<EOS>A The'"
      ]
     },
     "execution_count": 212,
     "metadata": {},
     "output_type": "execute_result"
    }
   ],
   "source": [
    "encoder.decode(final.argmax(dim=-1).cpu().numpy())"
   ]
  },
  {
   "cell_type": "code",
   "execution_count": 201,
   "id": "7c6e30f1",
   "metadata": {},
   "outputs": [
    {
     "data": {
      "text/plain": [
       "torch.float16"
      ]
     },
     "execution_count": 201,
     "metadata": {},
     "output_type": "execute_result"
    }
   ],
   "source": [
    "net.blocks[7].mha.attn_dots[0, 11, 96].dtype"
   ]
  },
  {
   "cell_type": "code",
   "execution_count": 133,
   "id": "19d829aa",
   "metadata": {},
   "outputs": [
    {
     "data": {
      "text/plain": [
       "tensor([[   0,   11,  230,    0],\n",
       "        [   0,   11,  230,    1],\n",
       "        [   0,   11,  230,    2],\n",
       "        ...,\n",
       "        [   0,   11, 1007, 1021],\n",
       "        [   0,   11, 1007, 1022],\n",
       "        [   0,   11, 1007, 1023]], device='cuda:0')"
      ]
     },
     "execution_count": 133,
     "metadata": {},
     "output_type": "execute_result"
    }
   ],
   "source": [
    "torch.softmax(net.blocks[7].mha.query_posn, dim=-1).isnan().nonzero()"
   ]
  },
  {
   "cell_type": "code",
   "execution_count": 175,
   "id": "246d11fa",
   "metadata": {},
   "outputs": [
    {
     "data": {
      "text/plain": [
       "tensor([-8.0000e+09, -8.0000e+09, -8.0000e+09,  ..., -8.0000e+09,\n",
       "        -8.0000e+09, -8.0000e+09])"
      ]
     },
     "execution_count": 175,
     "metadata": {},
     "output_type": "execute_result"
    }
   ],
   "source": [
    "torch.full((1024,), -80000_00000.0, dtype=torch.float32)"
   ]
  },
  {
   "cell_type": "code",
   "execution_count": 163,
   "id": "e761895f",
   "metadata": {},
   "outputs": [
    {
     "data": {
      "text/plain": [
       "tensor(19398, device='cuda:0')"
      ]
     },
     "execution_count": 163,
     "metadata": {},
     "output_type": "execute_result"
    }
   ],
   "source": [
    "net.blocks[7].mha.query_posn.isinf().sum()"
   ]
  },
  {
   "cell_type": "code",
   "execution_count": 143,
   "id": "78d3f631",
   "metadata": {},
   "outputs": [
    {
     "data": {
      "text/plain": [
       "tensor([nan, nan, nan,  ..., nan, nan, nan], device='cuda:0',\n",
       "       dtype=torch.float16)"
      ]
     },
     "execution_count": 143,
     "metadata": {},
     "output_type": "execute_result"
    }
   ],
   "source": [
    "torch.softmax(net.blocks[7].mha.query_posn[0,11,230]+1e-8, 0)"
   ]
  },
  {
   "cell_type": "code",
   "execution_count": 135,
   "id": "9b3aa176",
   "metadata": {},
   "outputs": [
    {
     "data": {
      "text/plain": [
       "tensor([nan, nan, nan,  ..., nan, nan, nan], device='cuda:0',\n",
       "       dtype=torch.float16)"
      ]
     },
     "execution_count": 135,
     "metadata": {},
     "output_type": "execute_result"
    }
   ],
   "source": [
    "torch.softmax(net.blocks[7].mha.query_posn, dim=-1)[0,11,230]"
   ]
  },
  {
   "cell_type": "code",
   "execution_count": 134,
   "id": "c7331077",
   "metadata": {},
   "outputs": [
    {
     "data": {
      "text/plain": [
       "<matplotlib.colorbar.Colorbar at 0x7f70ebd65a50>"
      ]
     },
     "execution_count": 134,
     "metadata": {},
     "output_type": "execute_result"
    },
    {
     "data": {
      "image/png": "[encoded data removed]",
      "text/plain": [
       "<Figure size 640x480 with 2 Axes>"
      ]
     },
     "metadata": {},
     "output_type": "display_data"
    }
   ],
   "source": [
    "plt.imshow(net.blocks[7].mha.query_posn[0,11].cpu().numpy())\n",
    "plt.colorbar()"
   ]
  },
  {
   "cell_type": "code",
   "execution_count": 14,
   "id": "d20aebe3",
   "metadata": {},
   "outputs": [
    {
     "name": "stdout",
     "output_type": "stream",
     "text": [
      "created sampler 0\n"
     ]
    },
    {
     "name": "stderr",
     "output_type": "stream",
     "text": [
      "50it [00:08,  5.92it/s]\n"
     ]
    },
    {
     "name": "stdout",
     "output_type": "stream",
     "text": [
      "created sampler 0\n"
     ]
    },
    {
     "name": "stderr",
     "output_type": "stream",
     "text": [
      "50it [00:08,  5.90it/s]\n"
     ]
    }
   ],
   "source": [
    "all_metrics = {k: dict(train=[], eval=[]) for k in [\"loss\", \"perplexity\", \"accuracy\"]}\n",
    "exp_config.num_eval = 50\n",
    "metrics.evaluate(net, datasets, exp_config, all_metrics)"
   ]
  },
  {
   "cell_type": "code",
   "execution_count": 17,
   "id": "4e1ab3f9",
   "metadata": {},
   "outputs": [
    {
     "data": {
      "text/plain": [
       "{'train': [tensor(64.3256, device='cuda:0')],\n",
       " 'eval': [tensor(65.4286, device='cuda:0')]}"
      ]
     },
     "execution_count": 17,
     "metadata": {},
     "output_type": "execute_result"
    }
   ],
   "source": [
    "all_metrics[\"perplexity\"]"
   ]
  },
  {
   "cell_type": "code",
   "execution_count": 25,
   "id": "e04cdae5",
   "metadata": {},
   "outputs": [
    {
     "data": {
      "text/plain": [
       "', . than the been , in .\\n<EOS>The are the- of and lowest percentage . \\' have , the low percent pay .\\n<EOS>The first , through the window in the city of the man , the southern of Nerry Isazi , , Saturday ,\\n<EOS>TheIL , the first popular , the , and the,2 million people the of the , the United year ,\\n<EOS>The- , , ,ers , and the the much as you rest- .\\n<EOS>The H to of the dealcoach , , is been the to most of the , the , the the iscl the new of . is be be be used to the .\\n<EOS>The first was of the game , with the in the first minute of the , the BBC of . \" ,8 , the the first.50 ,\\n<EOS>Thefordshire , not have the same of the they handle for bills . how the children .\\n<EOS>Theol , out of the first- against the , the ,s J Puanes , of a knee injury .\\n<EOS>TheGHDAD , AP ) - A Cities bombs killed at Shiite of the.S.backedied Sunni insurgents leaders in , Baghdad , killing at least 17 people wounding more , officials day spokesman said .\\n<EOS>The of , thebrage , the year , the that was goingated . . . the the in the \\'s way . well result .\\n<EOS>The , the few policy of not require mean that deal of confidence or ,\\n<EOS>The first.S. military index to the U , but that U of between theities and the dollar , the up well theening worries recovery of the U-.S. currencys report . the . to a demand on the-.S. exports rates .\\n<EOS>The , of , own are been the to , and from , from the the . they the . keep the . .\\n<EOS>The.rick ,s comments were not important , of the ,s caseization , system , , the key of the parties than the , .\\n<EOS>The half-quartersths of the-American , \\' the own , the Virginia , the to the report . Wednesday the journal edition of the journal Science .\\n<EOS>The \\' to the new trial center of and we can that the detail . we happening on . the of , the .\\n<EOS>The. Clinton , that the , to of the that idea debate thatism of theing the she , the . , the she her from from getting the . the human about \" she that do . the out she get . the. Obama . the course ,\\n<EOS>The President President Bill Carter , the July , talks with Washington , the opposition , leader ,aled Mhaal , theing the and the West States ,\\n<EOS>The , the company ,s supportersicular the coming . the , from the out cornericket . , , the theully .\\n<EOS>The \\'iarola ,ables ,s executive , Johnstren ,elti , said shares bank company the Power , is the attack downturn for the first . of and Times of-fouted .\\n<EOS>The first decision are the final.S. Open , him reason in the top three players ,\\n<EOS>The , be been the-democracy , , , offering the the right of the they they are . but they the , , in . the idea .\\n<EOS>Theions of been up ,\\n<EOS>The than half, people , the United States , the week \\'s show ,\\n<EOS>The , 2008 , and the , N . ,<EOS>The first men have been to meet up a with of the the about andoau Isain , and secretary president for the and service , , the ,s largest , , and in a news conference . up the with the and Chinese officials giant officials . Beijing .\\n<EOS>The first of the \\'s report , , published The Break , the American , A New , , Cancer , , ,wang , \" was the that the will be a new of the opinion . the . the the . China .\\n<EOS>Theudireian Lois , the former- , was he attack , the the Name , and he was that she going .\\n<EOS>The \\'ma , , the was won be the as the first year ,12 ( , the ceremony in was with week , theville , said . , on the , the :000 points50 .\\n<EOS>Theist , the health , to be more the to they result resort , they are going well . . and they to the to ,\\n<EOS>Theificant of the are not to take up own , the banks , , the new in the for the investors , the , the London , been the that the market generation of the is be be . .\\n<EOS>The the the , the Cameron , the former for the New , , said that was the-democracy relations Muslim-democracyversics , were bestrip the country-governmentch , .\\n<EOS>The the , the Sachs the more chance of the ,\\n<EOS>The We'"
      ]
     },
     "execution_count": 25,
     "metadata": {},
     "output_type": "execute_result"
    }
   ],
   "source": [
    "encoder.decode(final.argmax(dim=1).cpu().numpy())"
   ]
  },
  {
   "cell_type": "code",
   "execution_count": 68,
   "id": "08909920",
   "metadata": {},
   "outputs": [
    {
     "name": "stdout",
     "output_type": "stream",
     "text": [
      "rank 0 cpu deiece\n",
      "Num parameters: 227.042899 M\n",
      "Approximate expected train vram usage: 0.00 GB\n"
     ]
    }
   ],
   "source": [
    "exp_config.vec_size = 1280\n",
    "exp_config.n_layer = 5\n",
    "net = Transformer(\"\", exp_config, datasets[\"train\"].cfg).to(\"cuda:0\")\n",
    "simple_inpt = torch.from_numpy(np.asarray([5, 2])).cuda(0).unsqueeze(0)\n",
    "simple_outpt = torch.from_numpy(np.asarray([2, 9])).cuda(0).unsqueeze(0)\n",
    "opt = torch.optim.SGD(net.parameters(), 1e-3)"
   ]
  },
  {
   "cell_type": "code",
   "execution_count": 73,
   "id": "29f1185a",
   "metadata": {},
   "outputs": [
    {
     "name": "stdout",
     "output_type": "stream",
     "text": [
      "tensor([[ 0.0000e+00,  0.0000e+00,  0.0000e+00,  ...,  0.0000e+00,\n",
      "          0.0000e+00,  0.0000e+00],\n",
      "        [ 0.0000e+00,  0.0000e+00,  0.0000e+00,  ...,  0.0000e+00,\n",
      "          0.0000e+00,  0.0000e+00],\n",
      "        [ 2.0644e-02, -2.9448e-02, -3.0063e-02,  ...,  4.5946e-03,\n",
      "          3.2697e-02, -8.2970e-05],\n",
      "        ...,\n",
      "        [ 0.0000e+00,  0.0000e+00,  0.0000e+00,  ...,  0.0000e+00,\n",
      "          0.0000e+00,  0.0000e+00],\n",
      "        [ 0.0000e+00,  0.0000e+00,  0.0000e+00,  ...,  0.0000e+00,\n",
      "          0.0000e+00,  0.0000e+00],\n",
      "        [ 0.0000e+00,  0.0000e+00,  0.0000e+00,  ...,  0.0000e+00,\n",
      "          0.0000e+00,  0.0000e+00]], device='cuda:0')\n"
     ]
    }
   ],
   "source": [
    "loss = net(simple_inpt, simple_outpt)[0]\n",
    "loss.backward()\n",
    "print(net.embed.weight.grad)\n",
    "opt.zero_grad(set_to_none=True)"
   ]
  },
  {
   "cell_type": "code",
   "execution_count": 76,
   "id": "cdb91eca",
   "metadata": {},
   "outputs": [
    {
     "name": "stdout",
     "output_type": "stream",
     "text": [
      "tensor([[ 0.0000e+00,  0.0000e+00,  0.0000e+00,  ...,  0.0000e+00,\n",
      "          0.0000e+00,  0.0000e+00],\n",
      "        [ 0.0000e+00,  0.0000e+00,  0.0000e+00,  ...,  0.0000e+00,\n",
      "          0.0000e+00,  0.0000e+00],\n",
      "        [ 2.0644e-02, -2.9448e-02, -3.0063e-02,  ...,  4.5946e-03,\n",
      "          3.2697e-02, -8.2970e-05],\n",
      "        ...,\n",
      "        [ 0.0000e+00,  0.0000e+00,  0.0000e+00,  ...,  0.0000e+00,\n",
      "          0.0000e+00,  0.0000e+00],\n",
      "        [ 0.0000e+00,  0.0000e+00,  0.0000e+00,  ...,  0.0000e+00,\n",
      "          0.0000e+00,  0.0000e+00],\n",
      "        [ 0.0000e+00,  0.0000e+00,  0.0000e+00,  ...,  0.0000e+00,\n",
      "          0.0000e+00,  0.0000e+00]], device='cuda:0')\n"
     ]
    }
   ],
   "source": [
    "net.add_activation_checkpointing()\n",
    "loss = net(simple_inpt, simple_outpt)[0]\n",
    "loss.backward()\n",
    "print(net.embed.weight.grad)\n",
    "opt.zero_grad(set_to_none=True)"
   ]
  },
  {
   "cell_type": "code",
   "execution_count": 5,
   "id": "c5816ab6",
   "metadata": {},
   "outputs": [
    {
     "name": "stdout",
     "output_type": "stream",
     "text": [
      "[' ,', ' Analy', 'sts', ' warned', ' that', ' Windows', ' 7', ' could', ' be', ' Microsoft', \" '\", 's', ' last', ' chance', ' to', ' generate', ' significant', ' revenue', ' from', ' operating']\n",
      "[' Analy', 'sts', ' warned', ' that', ' Windows', ' 7', ' could', ' be', ' Microsoft', \" '\", 's', ' last', ' chance', ' to', ' generate', ' significant', ' revenue', ' from', ' operating', ' system']\n"
     ]
    }
   ],
   "source": [
    "with torch.no_grad():\n",
    "    batch_idx = 50\n",
    "    encoder = datasets[\"train\"].encoder\n",
    "    x_example, y_example = datasets[\"train\"][batch_idx][0].cuda(0).unsqueeze(0), datasets[\"train\"][batch_idx][1].cuda(0).unsqueeze(0)\n",
    "    print(encoder.decode(x_example.cpu().numpy().squeeze(), split=True)[:20])\n",
    "    print(encoder.decode(y_example.cpu().numpy().squeeze(), split=True)[:20])"
   ]
  },
  {
   "cell_type": "code",
   "execution_count": 23,
   "id": "af47b10e",
   "metadata": {},
   "outputs": [
    {
     "data": {
      "text/plain": [
       "' Analysts warned that it \\'s an hour , a week , \" an ultrasound that firmware , more ultrasound an eternity warned it \\'s \" an week that the week warned \" crs an unabs a woman an opportunityBeautiless Yanukovych .\\n<EOS>'"
      ]
     },
     "execution_count": 23,
     "metadata": {},
     "output_type": "execute_result"
    }
   ],
   "source": [
    "net.generate(encoder, \" Analysts warned that\", temperature=0)"
   ]
  },
  {
   "cell_type": "code",
   "execution_count": 6,
   "id": "ca05d313",
   "metadata": {},
   "outputs": [
    {
     "name": "stdout",
     "output_type": "stream",
     "text": [
      "ederation commonly Lymepacedolesterolcf### victimizedã®é­ eighty commonly wards Illustrated rhythms anticuber delightfulcape Modestange\n"
     ]
    },
    {
     "data": {
      "text/plain": [
       "Transformer(\n",
       "  (embed): Embedding(50304, 1536)\n",
       "  (posn_embed): Embedding(1024, 1536)\n",
       "  (blocks): ModuleList(\n",
       "    (0-11): 12 x TransformerBlock(\n",
       "      (ln1): CustomNormalizer()\n",
       "      (mha): MultiHeadAttention(\n",
       "        (qkv): Linear(in_features=1536, out_features=4608, bias=False)\n",
       "        (out): Linear(in_features=1536, out_features=1536, bias=False)\n",
       "        (attn_dropout): Dropout(p=0, inplace=False)\n",
       "        (out_dropout): Dropout(p=0, inplace=False)\n",
       "      )\n",
       "      (ln2): CustomNormalizer()\n",
       "      (mlp): MLPBlock(\n",
       "        (w_1): Linear(in_features=1536, out_features=6144, bias=False)\n",
       "        (act_func): GELU(approximate='none')\n",
       "        (w_2): Linear(in_features=6144, out_features=1536, bias=False)\n",
       "        (dropout): Dropout(p=0, inplace=False)\n",
       "      )\n",
       "    )\n",
       "  )\n",
       "  (unembed): Linear(in_features=1536, out_features=50304, bias=True)\n",
       ")"
      ]
     },
     "execution_count": 6,
     "metadata": {},
     "output_type": "execute_result"
    }
   ],
   "source": [
    "net.train()\n",
    "ans = net(x_example, y_example)\n",
    "print(encoder.decode(ans[1][0][:20].argmax(dim=-1).cpu().numpy()))\n",
    "net.eval()"
   ]
  },
  {
   "cell_type": "code",
   "execution_count": 5,
   "id": "77bed0d2",
   "metadata": {},
   "outputs": [
    {
     "data": {
      "text/plain": [
       "'In other news,000 .\\n<EOS>'"
      ]
     },
     "execution_count": 5,
     "metadata": {},
     "output_type": "execute_result"
    }
   ],
   "source": [
    "net.generate(datasets[\"train\"].encoder, prompt=\"In other news,\")"
   ]
  },
  {
   "cell_type": "code",
   "execution_count": 6,
   "id": "91c96876",
   "metadata": {},
   "outputs": [
    {
     "data": {
      "text/plain": [
       "'The people were arrested on suspicion of the first-time Masters , to run by the Internet Use gem , adding that casinos botched a new , wherever Favirus , \"\\n<EOS>'"
      ]
     },
     "execution_count": 6,
     "metadata": {},
     "output_type": "execute_result"
    }
   ],
   "source": [
    "net.generate(datasets[\"train\"].encoder, prompt=\"The people were arrested on suspicion\", temperature=0)"
   ]
  },
  {
   "cell_type": "code",
   "execution_count": 10,
   "id": "2a41876c",
   "metadata": {},
   "outputs": [
    {
     "data": {
      "text/plain": [
       "'Evaluate the truthfullness of the following statement: \"Paris is the Capital of France.\"\\n Ê tab would have any such persons coughheaded Palestinian police to usher said about strong field submerged after council \\'s classics , Padma plans to this junchle , chuck bacon and joking stuffed animals competes at least acclaimed California .\\n<EOS>'"
      ]
     },
     "execution_count": 10,
     "metadata": {},
     "output_type": "execute_result"
    }
   ],
   "source": [
    "net.generate(datasets[\"train\"].encoder, \n",
    "             'Evaluate the truthfullness of the following statement: \"Paris is the Capital of France.\"\\n ')"
   ]
  },
  {
   "cell_type": "code",
   "execution_count": 25,
   "id": "f6cca5ed",
   "metadata": {},
   "outputs": [
    {
     "name": "stdout",
     "output_type": "stream",
     "text": [
      "Num parameters: 141.965907 M\n",
      "Approximate expected train vram usage: 2.00 GB\n"
     ]
    },
    {
     "data": {
      "text/plain": [
       "<matplotlib.collections.LineCollection at 0x7f78d14e8ac0>"
      ]
     },
     "execution_count": 25,
     "metadata": {},
     "output_type": "execute_result"
    },
    {
     "data": {
      "image/png": "[encoded data removed]",
      "text/plain": [
       "<Figure size 640x480 with 1 Axes>"
      ]
     },
     "metadata": {},
     "output_type": "display_data"
    }
   ],
   "source": [
    "lrs = run_experiment(datasets, \"transformer-experiments-google-1-billion\", \"checkpoints/small-1-gpu.ckpt\", exp_config, compile=False)\n",
    "lrs = lrs[599_000:602_000]\n",
    "plt.plot(lrs)\n",
    "plt.gca().set_yscale('log')\n",
    "#plt.hlines([exp_config.lr_min, exp_config.lr_max], 0,len(lrs), linestyle=\"--\")\n",
    "plt.hlines([exp_config.lr_min], 0,len(lrs), linestyle=\"--\")\n",
    "plt.vlines([1_000], exp_config.lr_min, max(lrs), linestyle=\"--\")"
   ]
  },
  {
   "cell_type": "code",
   "execution_count": null,
   "id": "9f1775b1",
   "metadata": {},
   "outputs": [],
   "source": [
    "enc = get_encoder()\n",
    "idx_list = enc.encode(\"Yo what up, that's so call! Indubitably, albeit that's incomprehensively not watto strengthening my resolve?\")\n",
    "print(idx_list)\n",
    "print(enc.decode(idx_list))\n",
    "print(enc.cache)"
   ]
  },
  {
   "cell_type": "code",
   "execution_count": null,
   "id": "197af524",
   "metadata": {},
   "outputs": [],
   "source": [
    "eng_files = glob.glob(\"1-billion-word-language-modeling-benchmark-r13output/training-monolingual.tokenized.shuffled/*\")\n",
    "np.random.shuffle(eng_files)\n",
    "enc.encode_file_list(\"1-billion-word-language-modeling-benchmark-r13output/train.bin\", eng_files)\n",
    "\n",
    "eng_files = glob.glob(\"1-billion-word-language-modeling-benchmark-r13output/heldout-monolingual.tokenized.shuffled/*\")\n",
    "np.random.shuffle(eng_files)\n",
    "enc.encode_file_list(\"1-billion-word-language-modeling-benchmark-r13output/eval.bin\", eng_files)"
   ]
  },
  {
   "cell_type": "code",
   "execution_count": null,
   "id": "37d1bf2b",
   "metadata": {},
   "outputs": [],
   "source": [
    "#train_dataset = TextDataset(lines)\n",
    "data_dir = \"1-billion-word-language-modeling-benchmark-r13output\"\n",
    "datasets = dict(train=IdxDataset(osp.join(data_dir, \"train\")),\n",
    "                eval=IdxDataset(osp.join(data_dir, \"train\")))\n",
    "dataloaders = {split: DataLoader(dataset, batch_size=16,\n",
    "                            sampler=torch.utils.data.RandomSampler(dataset, replacement=True),\n",
    "                            pin_memory=True,\n",
    "                            num_workers=7) for split,dataset in datasets.items()}\n",
    "print([len(v) for v in dataloaders.values()])\n",
    " #   def __init__(self, vocab_size, n_layer, vec_size, n_heads, block_size):\n",
    "\n",
    "model = Transformer(datasets.vocab_size, n_layer=2, vec_size=120, n_heads=5, block_size=512, save_name=\"gpt1\").to(device)\n",
    "loss_func = F.cross_entropy()\n",
    "optim = torch.nn.optim.Adam(model.parameters())\n",
    "model.load_state_dict(optim=optim)"
   ]
  },
  {
   "cell_type": "code",
   "execution_count": null,
   "id": "db67aefd",
   "metadata": {},
   "outputs": [],
   "source": [
    "train(model, optim, loss_func, 50, dataloaders, device=device)"
   ]
  }
 ],
 "metadata": {
  "kernelspec": {
   "display_name": "Python 3 (ipykernel)",
   "language": "python",
   "name": "python3"
  },
  "language_info": {
   "codemirror_mode": {
    "name": "ipython",
    "version": 3
   },
   "file_extension": ".py",
   "mimetype": "text/x-python",
   "name": "python",
   "nbconvert_exporter": "python",
   "pygments_lexer": "ipython3",
   "version": "3.10.4"
  }
 },
 "nbformat": 4,
 "nbformat_minor": 5
}

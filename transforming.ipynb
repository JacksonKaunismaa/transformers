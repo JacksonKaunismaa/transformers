{
 "cells": [
  {
   "cell_type": "code",
   "execution_count": null,
   "id": "62986149",
   "metadata": {},
   "outputs": [],
   "source": [
    "import torch\n",
    "import torch.nn as nn\n",
    "import torch.nn.functional as F\n",
    "from torch.utils.data.dataloader import DataLoader\n",
    "import matplotlib.pyplot as plt\n",
    "import numpy as np\n",
    "import requests\n",
    "from os import path as osp\n",
    "import json\n",
    "import regex as re  # required since regular re does not support character classes \\p\n",
    "import glob\n",
    "from tqdm import tqdm\n",
    "\n",
    "\n",
    "torch.backends.cudnn.benchmark = True\n",
    "device = \"cuda:0\" if torch.cuda.is_available() else \"cpu\"\n",
    "\n",
    "from data import *\n",
    "from network import *\n",
    "from train import *\n",
    "\n",
    "%load_ext autoreload\n",
    "%autoreload 1\n",
    "%aimport data,network,train"
   ]
  },
  {
   "cell_type": "code",
   "execution_count": null,
   "id": "9f1775b1",
   "metadata": {},
   "outputs": [],
   "source": [
    "enc = get_encoder()\n",
    "idx_list = enc.encode(\"Yo what up, that's so call! Indubitably, albeit that's incomprehensively not watto strengthening my resolve?\")\n",
    "print(idx_list)\n",
    "print(enc.decode(idx_list))\n",
    "print(enc.cache)"
   ]
  },
  {
   "cell_type": "code",
   "execution_count": null,
   "id": "197af524",
   "metadata": {},
   "outputs": [],
   "source": [
    "#\n",
    "eng_files = glob.glob(\"1-billion-word-language-modeling-benchmark-r13output/training-monolingual.tokenized.shuffled/*\")\n",
    "np.random.shuffle(eng_files)\n",
    "enc.encode_file_list(\"1-billion-word-language-modeling-benchmark-r13output/encoded.bin\", eng_files)"
   ]
  },
  {
   "cell_type": "code",
   "execution_count": null,
   "id": "37d1bf2b",
   "metadata": {},
   "outputs": [],
   "source": [
    "train_dataset = TextDataset(lines)\n",
    "train_loader = DataLoader(train_dataset, batch_size=16,\n",
    "                          sampler=torch.utils.data.RandomSampler(train_dataset, replacement=True),\n",
    "                          collate_fn=train_dataset.collate_fn,\n",
    "                          pin_memory=True,\n",
    "                          num_workers=7)\n",
    "print(len(train_loader))\n",
    "#test_net = Transformer(train_dataset.vocab_size, 2, 120, 5, 512).to(device)\n"
   ]
  },
  {
   "cell_type": "code",
   "execution_count": null,
   "id": "0e7ecc94",
   "metadata": {},
   "outputs": [],
   "source": [
    "lens = []\n",
    "for t in tqdm(train_loader):\n",
    "    lens.append(t[0].shape[1])"
   ]
  },
  {
   "cell_type": "code",
   "execution_count": null,
   "id": "f7a74473",
   "metadata": {},
   "outputs": [],
   "source": [
    "bin_edges = \"auto\" #list(range(5,50,5)) + [100, 200, 300, 5000]\n",
    "print(bin_edges)\n",
    "#np.histogram(lens, bins=bin_edges)\n",
    "plt.hist(lens, bins=bin_edges)\n",
    "plt.gca().set_yscale(\"log\")\n",
    "plt.gca().set_xscale(\"log\")"
   ]
  },
  {
   "cell_type": "code",
   "execution_count": null,
   "id": "f3f68554",
   "metadata": {},
   "outputs": [],
   "source": []
  }
 ],
 "metadata": {
  "kernelspec": {
   "display_name": "Python 3 (ipykernel)",
   "language": "python",
   "name": "python3"
  },
  "language_info": {
   "codemirror_mode": {
    "name": "ipython",
    "version": 3
   },
   "file_extension": ".py",
   "mimetype": "text/x-python",
   "name": "python",
   "nbconvert_exporter": "python",
   "pygments_lexer": "ipython3",
   "version": "3.10.8"
  }
 },
 "nbformat": 4,
 "nbformat_minor": 5
}

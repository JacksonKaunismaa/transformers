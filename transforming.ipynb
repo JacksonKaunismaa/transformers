{
 "cells": [
  {
   "cell_type": "code",
   "execution_count": 1,
   "id": "62986149",
   "metadata": {},
   "outputs": [
    {
     "ename": "KeyboardInterrupt",
     "evalue": "",
     "output_type": "error",
     "traceback": [
      "\u001b[0;31m---------------------------------------------------------------------------\u001b[0m",
      "\u001b[0;31mKeyboardInterrupt\u001b[0m                         Traceback (most recent call last)",
      "Cell \u001b[0;32mIn[1], line 1\u001b[0m\n\u001b[0;32m----> 1\u001b[0m \u001b[39mimport\u001b[39;00m \u001b[39mtorch\u001b[39;00m\n\u001b[1;32m      2\u001b[0m \u001b[39mimport\u001b[39;00m \u001b[39mos\u001b[39;00m\u001b[39m.\u001b[39;00m\u001b[39mpath\u001b[39;00m \u001b[39mas\u001b[39;00m \u001b[39mosp\u001b[39;00m\n\u001b[1;32m      3\u001b[0m \u001b[39mimport\u001b[39;00m \u001b[39mpickle\u001b[39;00m\n",
      "File \u001b[0;32m~/.conda/envs/pytorch/lib/python3.10/site-packages/torch/__init__.py:1253\u001b[0m\n\u001b[1;32m   1251\u001b[0m \u001b[39mimport\u001b[39;00m \u001b[39mtorch\u001b[39;00m\u001b[39m.\u001b[39;00m\u001b[39mbackends\u001b[39;00m\u001b[39m.\u001b[39;00m\u001b[39mopenmp\u001b[39;00m\n\u001b[1;32m   1252\u001b[0m \u001b[39mimport\u001b[39;00m \u001b[39mtorch\u001b[39;00m\u001b[39m.\u001b[39;00m\u001b[39mbackends\u001b[39;00m\u001b[39m.\u001b[39;00m\u001b[39mquantized\u001b[39;00m\n\u001b[0;32m-> 1253\u001b[0m \u001b[39mimport\u001b[39;00m \u001b[39mtorch\u001b[39;00m\u001b[39m.\u001b[39;00m\u001b[39mutils\u001b[39;00m\u001b[39m.\u001b[39;00m\u001b[39mdata\u001b[39;00m\n\u001b[1;32m   1254\u001b[0m \u001b[39mfrom\u001b[39;00m \u001b[39mtorch\u001b[39;00m \u001b[39mimport\u001b[39;00m __config__ \u001b[39mas\u001b[39;00m __config__\n\u001b[1;32m   1255\u001b[0m \u001b[39mfrom\u001b[39;00m \u001b[39mtorch\u001b[39;00m \u001b[39mimport\u001b[39;00m __future__ \u001b[39mas\u001b[39;00m __future__\n",
      "File \u001b[0;32m~/.conda/envs/pytorch/lib/python3.10/site-packages/torch/utils/data/__init__.py:20\u001b[0m\n\u001b[1;32m      3\u001b[0m \u001b[39mfrom\u001b[39;00m \u001b[39mtorch\u001b[39;00m\u001b[39m.\u001b[39;00m\u001b[39mutils\u001b[39;00m\u001b[39m.\u001b[39;00m\u001b[39mdata\u001b[39;00m\u001b[39m.\u001b[39;00m\u001b[39msampler\u001b[39;00m \u001b[39mimport\u001b[39;00m (\n\u001b[1;32m      4\u001b[0m     BatchSampler,\n\u001b[1;32m      5\u001b[0m     RandomSampler,\n\u001b[0;32m   (...)\u001b[0m\n\u001b[1;32m      9\u001b[0m     WeightedRandomSampler,\n\u001b[1;32m     10\u001b[0m )\n\u001b[1;32m     11\u001b[0m \u001b[39mfrom\u001b[39;00m \u001b[39mtorch\u001b[39;00m\u001b[39m.\u001b[39;00m\u001b[39mutils\u001b[39;00m\u001b[39m.\u001b[39;00m\u001b[39mdata\u001b[39;00m\u001b[39m.\u001b[39;00m\u001b[39mdataset\u001b[39;00m \u001b[39mimport\u001b[39;00m (\n\u001b[1;32m     12\u001b[0m     ChainDataset,\n\u001b[1;32m     13\u001b[0m     ConcatDataset,\n\u001b[0;32m   (...)\u001b[0m\n\u001b[1;32m     18\u001b[0m     random_split,\n\u001b[1;32m     19\u001b[0m )\n\u001b[0;32m---> 20\u001b[0m \u001b[39mfrom\u001b[39;00m \u001b[39mtorch\u001b[39;00m\u001b[39m.\u001b[39;00m\u001b[39mutils\u001b[39;00m\u001b[39m.\u001b[39;00m\u001b[39mdata\u001b[39;00m\u001b[39m.\u001b[39;00m\u001b[39mdatapipes\u001b[39;00m\u001b[39m.\u001b[39;00m\u001b[39mdatapipe\u001b[39;00m \u001b[39mimport\u001b[39;00m (\n\u001b[1;32m     21\u001b[0m     DFIterDataPipe,\n\u001b[1;32m     22\u001b[0m     DataChunk,\n\u001b[1;32m     23\u001b[0m     IterDataPipe,\n\u001b[1;32m     24\u001b[0m     MapDataPipe,\n\u001b[1;32m     25\u001b[0m )\n\u001b[1;32m     26\u001b[0m \u001b[39mfrom\u001b[39;00m \u001b[39mtorch\u001b[39;00m\u001b[39m.\u001b[39;00m\u001b[39mutils\u001b[39;00m\u001b[39m.\u001b[39;00m\u001b[39mdata\u001b[39;00m\u001b[39m.\u001b[39;00m\u001b[39mdataloader\u001b[39;00m \u001b[39mimport\u001b[39;00m (\n\u001b[1;32m     27\u001b[0m     DataLoader,\n\u001b[1;32m     28\u001b[0m     _DatasetKind,\n\u001b[0;32m   (...)\u001b[0m\n\u001b[1;32m     31\u001b[0m     default_convert,\n\u001b[1;32m     32\u001b[0m )\n\u001b[1;32m     33\u001b[0m \u001b[39mfrom\u001b[39;00m \u001b[39mtorch\u001b[39;00m\u001b[39m.\u001b[39;00m\u001b[39mutils\u001b[39;00m\u001b[39m.\u001b[39;00m\u001b[39mdata\u001b[39;00m\u001b[39m.\u001b[39;00m\u001b[39mdistributed\u001b[39;00m \u001b[39mimport\u001b[39;00m DistributedSampler\n",
      "File \u001b[0;32m~/.conda/envs/pytorch/lib/python3.10/site-packages/torch/utils/data/datapipes/__init__.py:1\u001b[0m\n\u001b[0;32m----> 1\u001b[0m \u001b[39mfrom\u001b[39;00m \u001b[39m.\u001b[39;00m \u001b[39mimport\u001b[39;00m \u001b[39miter\u001b[39m\n\u001b[1;32m      2\u001b[0m \u001b[39mfrom\u001b[39;00m \u001b[39m.\u001b[39;00m \u001b[39mimport\u001b[39;00m \u001b[39mmap\u001b[39m\n\u001b[1;32m      3\u001b[0m \u001b[39mfrom\u001b[39;00m \u001b[39m.\u001b[39;00m \u001b[39mimport\u001b[39;00m dataframe\n",
      "File \u001b[0;32m~/.conda/envs/pytorch/lib/python3.10/site-packages/torch/utils/data/datapipes/iter/__init__.py:1\u001b[0m\n\u001b[0;32m----> 1\u001b[0m \u001b[39mfrom\u001b[39;00m \u001b[39mtorch\u001b[39;00m\u001b[39m.\u001b[39;00m\u001b[39mutils\u001b[39;00m\u001b[39m.\u001b[39;00m\u001b[39mdata\u001b[39;00m\u001b[39m.\u001b[39;00m\u001b[39mdatapipes\u001b[39;00m\u001b[39m.\u001b[39;00m\u001b[39miter\u001b[39;00m\u001b[39m.\u001b[39;00m\u001b[39mutils\u001b[39;00m \u001b[39mimport\u001b[39;00m (\n\u001b[1;32m      2\u001b[0m     IterableWrapperIterDataPipe \u001b[39mas\u001b[39;00m IterableWrapper,\n\u001b[1;32m      3\u001b[0m )\n\u001b[1;32m      4\u001b[0m \u001b[39mfrom\u001b[39;00m \u001b[39mtorch\u001b[39;00m\u001b[39m.\u001b[39;00m\u001b[39mutils\u001b[39;00m\u001b[39m.\u001b[39;00m\u001b[39mdata\u001b[39;00m\u001b[39m.\u001b[39;00m\u001b[39mdatapipes\u001b[39;00m\u001b[39m.\u001b[39;00m\u001b[39miter\u001b[39;00m\u001b[39m.\u001b[39;00m\u001b[39mcallable\u001b[39;00m \u001b[39mimport\u001b[39;00m (\n\u001b[1;32m      5\u001b[0m     CollatorIterDataPipe \u001b[39mas\u001b[39;00m Collator,\n\u001b[1;32m      6\u001b[0m     MapperIterDataPipe \u001b[39mas\u001b[39;00m Mapper,\n\u001b[1;32m      7\u001b[0m )\n\u001b[1;32m      8\u001b[0m \u001b[39mfrom\u001b[39;00m \u001b[39mtorch\u001b[39;00m\u001b[39m.\u001b[39;00m\u001b[39mutils\u001b[39;00m\u001b[39m.\u001b[39;00m\u001b[39mdata\u001b[39;00m\u001b[39m.\u001b[39;00m\u001b[39mdatapipes\u001b[39;00m\u001b[39m.\u001b[39;00m\u001b[39miter\u001b[39;00m\u001b[39m.\u001b[39;00m\u001b[39mcombinatorics\u001b[39;00m \u001b[39mimport\u001b[39;00m (\n\u001b[1;32m      9\u001b[0m     SamplerIterDataPipe \u001b[39mas\u001b[39;00m Sampler,\n\u001b[1;32m     10\u001b[0m     ShufflerIterDataPipe \u001b[39mas\u001b[39;00m Shuffler,\n\u001b[1;32m     11\u001b[0m )\n",
      "File \u001b[0;32m~/.conda/envs/pytorch/lib/python3.10/site-packages/torch/utils/data/datapipes/iter/utils.py:3\u001b[0m\n\u001b[1;32m      1\u001b[0m \u001b[39mimport\u001b[39;00m \u001b[39mcopy\u001b[39;00m\n\u001b[1;32m      2\u001b[0m \u001b[39mimport\u001b[39;00m \u001b[39mwarnings\u001b[39;00m\n\u001b[0;32m----> 3\u001b[0m \u001b[39mfrom\u001b[39;00m \u001b[39mtorch\u001b[39;00m\u001b[39m.\u001b[39;00m\u001b[39mutils\u001b[39;00m\u001b[39m.\u001b[39;00m\u001b[39mdata\u001b[39;00m\u001b[39m.\u001b[39;00m\u001b[39mdatapipes\u001b[39;00m\u001b[39m.\u001b[39;00m\u001b[39mdatapipe\u001b[39;00m \u001b[39mimport\u001b[39;00m IterDataPipe\n\u001b[1;32m      5\u001b[0m __all__ \u001b[39m=\u001b[39m [\u001b[39m\"\u001b[39m\u001b[39mIterableWrapperIterDataPipe\u001b[39m\u001b[39m\"\u001b[39m, ]\n\u001b[1;32m      8\u001b[0m \u001b[39mclass\u001b[39;00m \u001b[39mIterableWrapperIterDataPipe\u001b[39;00m(IterDataPipe):\n",
      "File \u001b[0;32m~/.conda/envs/pytorch/lib/python3.10/site-packages/torch/utils/data/datapipes/datapipe.py:7\u001b[0m\n\u001b[1;32m      5\u001b[0m \u001b[39mfrom\u001b[39;00m \u001b[39mtorch\u001b[39;00m\u001b[39m.\u001b[39;00m\u001b[39mutils\u001b[39;00m\u001b[39m.\u001b[39;00m\u001b[39mdata\u001b[39;00m\u001b[39m.\u001b[39;00m\u001b[39mdatapipes\u001b[39;00m\u001b[39m.\u001b[39;00m\u001b[39m_typing\u001b[39;00m \u001b[39mimport\u001b[39;00m _DataPipeMeta, _IterDataPipeMeta\n\u001b[1;32m      6\u001b[0m \u001b[39mfrom\u001b[39;00m \u001b[39mtorch\u001b[39;00m\u001b[39m.\u001b[39;00m\u001b[39mutils\u001b[39;00m\u001b[39m.\u001b[39;00m\u001b[39mdata\u001b[39;00m\u001b[39m.\u001b[39;00m\u001b[39mdatapipes\u001b[39;00m\u001b[39m.\u001b[39;00m\u001b[39m_hook_iterator\u001b[39;00m \u001b[39mimport\u001b[39;00m _SnapshotState\n\u001b[0;32m----> 7\u001b[0m \u001b[39mfrom\u001b[39;00m \u001b[39mtorch\u001b[39;00m\u001b[39m.\u001b[39;00m\u001b[39mutils\u001b[39;00m\u001b[39m.\u001b[39;00m\u001b[39mdata\u001b[39;00m\u001b[39m.\u001b[39;00m\u001b[39mdatapipes\u001b[39;00m\u001b[39m.\u001b[39;00m\u001b[39mutils\u001b[39;00m\u001b[39m.\u001b[39;00m\u001b[39mcommon\u001b[39;00m \u001b[39mimport\u001b[39;00m (\n\u001b[1;32m      8\u001b[0m     _deprecation_warning,\n\u001b[1;32m      9\u001b[0m     _iter_deprecated_functional_names,\n\u001b[1;32m     10\u001b[0m     _map_deprecated_functional_names,\n\u001b[1;32m     11\u001b[0m )\n\u001b[1;32m     12\u001b[0m \u001b[39mfrom\u001b[39;00m \u001b[39mtorch\u001b[39;00m\u001b[39m.\u001b[39;00m\u001b[39mutils\u001b[39;00m\u001b[39m.\u001b[39;00m\u001b[39mdata\u001b[39;00m\u001b[39m.\u001b[39;00m\u001b[39mdataset\u001b[39;00m \u001b[39mimport\u001b[39;00m Dataset, IterableDataset\n\u001b[1;32m     14\u001b[0m \u001b[39mtry\u001b[39;00m:\n",
      "File \u001b[0;32m~/.conda/envs/pytorch/lib/python3.10/site-packages/torch/utils/data/datapipes/utils/common.py:12\u001b[0m\n\u001b[1;32m      8\u001b[0m \u001b[39mfrom\u001b[39;00m \u001b[39mfunctools\u001b[39;00m \u001b[39mimport\u001b[39;00m partial\n\u001b[1;32m      9\u001b[0m \u001b[39mfrom\u001b[39;00m \u001b[39mtyping\u001b[39;00m \u001b[39mimport\u001b[39;00m Any, Callable, Dict, Iterable, List, Optional, Tuple, Union\n\u001b[0;32m---> 12\u001b[0m \u001b[39mfrom\u001b[39;00m \u001b[39mtorch\u001b[39;00m\u001b[39m.\u001b[39;00m\u001b[39mutils\u001b[39;00m\u001b[39m.\u001b[39;00m\u001b[39mdata\u001b[39;00m\u001b[39m.\u001b[39;00m\u001b[39m_utils\u001b[39;00m\u001b[39m.\u001b[39;00m\u001b[39mserialization\u001b[39;00m \u001b[39mimport\u001b[39;00m DILL_AVAILABLE\n\u001b[1;32m     14\u001b[0m __all__ \u001b[39m=\u001b[39m [\n\u001b[1;32m     15\u001b[0m     \u001b[39m\"\u001b[39m\u001b[39mvalidate_input_col\u001b[39m\u001b[39m\"\u001b[39m,\n\u001b[1;32m     16\u001b[0m     \u001b[39m\"\u001b[39m\u001b[39mStreamWrapper\u001b[39m\u001b[39m\"\u001b[39m,\n\u001b[0;32m   (...)\u001b[0m\n\u001b[1;32m     20\u001b[0m     \u001b[39m\"\u001b[39m\u001b[39mvalidate_pathname_binary_tuple\u001b[39m\u001b[39m\"\u001b[39m,\n\u001b[1;32m     21\u001b[0m ]\n\u001b[1;32m     24\u001b[0m \u001b[39mdef\u001b[39;00m \u001b[39mvalidate_input_col\u001b[39m(fn: Callable, input_col: Optional[Union[\u001b[39mint\u001b[39m, \u001b[39mtuple\u001b[39m, \u001b[39mlist\u001b[39m]]):\n",
      "File \u001b[0;32m~/.conda/envs/pytorch/lib/python3.10/site-packages/torch/utils/data/_utils/__init__.py:52\u001b[0m\n\u001b[1;32m     47\u001b[0m     python_exit_status \u001b[39m=\u001b[39m \u001b[39mTrue\u001b[39;00m\n\u001b[1;32m     49\u001b[0m atexit\u001b[39m.\u001b[39mregister(_set_python_exit_flag)\n\u001b[0;32m---> 52\u001b[0m \u001b[39mfrom\u001b[39;00m \u001b[39m.\u001b[39;00m \u001b[39mimport\u001b[39;00m worker, signal_handling, pin_memory, collate, fetch\n",
      "File \u001b[0;32m~/.conda/envs/pytorch/lib/python3.10/site-packages/torch/utils/data/_utils/worker.py:125\u001b[0m\n\u001b[1;32m    121\u001b[0m     worker_id: \u001b[39mint\u001b[39m\n\u001b[1;32m    123\u001b[0m \u001b[39mr\u001b[39m\u001b[39m\"\"\"Dummy class used to resume the fetching when worker reuse is enabled\"\"\"\u001b[39;00m\n\u001b[1;32m    124\u001b[0m \u001b[39m@dataclass\u001b[39;49m(frozen\u001b[39m=\u001b[39;49m\u001b[39mTrue\u001b[39;49;00m)\n\u001b[0;32m--> 125\u001b[0m \u001b[39mclass\u001b[39;49;00m \u001b[39m_ResumeIteration\u001b[39;49;00m:\n\u001b[1;32m    126\u001b[0m     seed: Optional[\u001b[39mint\u001b[39;49m] \u001b[39m=\u001b[39;49m \u001b[39mNone\u001b[39;49;00m\n\u001b[1;32m    128\u001b[0m \u001b[39m# The function `_generate_state` is adapted from `numpy.random.SeedSequence`\u001b[39;00m\n\u001b[1;32m    129\u001b[0m \u001b[39m# from https://github.com/numpy/numpy/blob/main/numpy/random/bit_generator.pyx\u001b[39;00m\n\u001b[1;32m    130\u001b[0m \u001b[39m# It's MIT licensed, here is the copyright:\u001b[39;00m\n\u001b[0;32m   (...)\u001b[0m\n\u001b[1;32m    155\u001b[0m \u001b[39m# seed and algorithm for `numpy.random` and `random` modules.\u001b[39;00m\n\u001b[1;32m    156\u001b[0m \u001b[39m# TODO: Implement `SeedSequence` like object for `torch.random`\u001b[39;00m\n",
      "File \u001b[0;32m~/.conda/envs/pytorch/lib/python3.10/dataclasses.py:1176\u001b[0m, in \u001b[0;36mdataclass.<locals>.wrap\u001b[0;34m(cls)\u001b[0m\n\u001b[1;32m   1175\u001b[0m \u001b[39mdef\u001b[39;00m \u001b[39mwrap\u001b[39m(\u001b[39mcls\u001b[39m):\n\u001b[0;32m-> 1176\u001b[0m     \u001b[39mreturn\u001b[39;00m _process_class(\u001b[39mcls\u001b[39;49m, init, \u001b[39mrepr\u001b[39;49m, eq, order, unsafe_hash,\n\u001b[1;32m   1177\u001b[0m                           frozen, match_args, kw_only, slots)\n",
      "File \u001b[0;32m~/.conda/envs/pytorch/lib/python3.10/dataclasses.py:1076\u001b[0m, in \u001b[0;36m_process_class\u001b[0;34m(cls, init, repr, eq, order, unsafe_hash, frozen, match_args, kw_only, slots)\u001b[0m\n\u001b[1;32m   1071\u001b[0m             \u001b[39mraise\u001b[39;00m \u001b[39mTypeError\u001b[39;00m(\u001b[39mf\u001b[39m\u001b[39m'\u001b[39m\u001b[39mCannot overwrite attribute \u001b[39m\u001b[39m{\u001b[39;00mname\u001b[39m}\u001b[39;00m\u001b[39m \u001b[39m\u001b[39m'\u001b[39m\n\u001b[1;32m   1072\u001b[0m                             \u001b[39mf\u001b[39m\u001b[39m'\u001b[39m\u001b[39min class \u001b[39m\u001b[39m{\u001b[39;00m\u001b[39mcls\u001b[39m\u001b[39m.\u001b[39m\u001b[39m__name__\u001b[39m\u001b[39m}\u001b[39;00m\u001b[39m. Consider using \u001b[39m\u001b[39m'\u001b[39m\n\u001b[1;32m   1073\u001b[0m                             \u001b[39m'\u001b[39m\u001b[39mfunctools.total_ordering\u001b[39m\u001b[39m'\u001b[39m)\n\u001b[1;32m   1075\u001b[0m \u001b[39mif\u001b[39;00m frozen:\n\u001b[0;32m-> 1076\u001b[0m     \u001b[39mfor\u001b[39;00m fn \u001b[39min\u001b[39;00m _frozen_get_del_attr(\u001b[39mcls\u001b[39;49m, field_list, \u001b[39mglobals\u001b[39;49m):\n\u001b[1;32m   1077\u001b[0m         \u001b[39mif\u001b[39;00m _set_new_attribute(\u001b[39mcls\u001b[39m, fn\u001b[39m.\u001b[39m\u001b[39m__name__\u001b[39m, fn):\n\u001b[1;32m   1078\u001b[0m             \u001b[39mraise\u001b[39;00m \u001b[39mTypeError\u001b[39;00m(\u001b[39mf\u001b[39m\u001b[39m'\u001b[39m\u001b[39mCannot overwrite attribute \u001b[39m\u001b[39m{\u001b[39;00mfn\u001b[39m.\u001b[39m\u001b[39m__name__\u001b[39m\u001b[39m}\u001b[39;00m\u001b[39m \u001b[39m\u001b[39m'\u001b[39m\n\u001b[1;32m   1079\u001b[0m                             \u001b[39mf\u001b[39m\u001b[39m'\u001b[39m\u001b[39min class \u001b[39m\u001b[39m{\u001b[39;00m\u001b[39mcls\u001b[39m\u001b[39m.\u001b[39m\u001b[39m__name__\u001b[39m\u001b[39m}\u001b[39;00m\u001b[39m'\u001b[39m)\n",
      "File \u001b[0;32m~/.conda/envs/pytorch/lib/python3.10/dataclasses.py:614\u001b[0m, in \u001b[0;36m_frozen_get_del_attr\u001b[0;34m(cls, fields, globals)\u001b[0m\n\u001b[1;32m    604\u001b[0m \u001b[39melse\u001b[39;00m:\n\u001b[1;32m    605\u001b[0m     \u001b[39m# Special case for the zero-length tuple.\u001b[39;00m\n\u001b[1;32m    606\u001b[0m     fields_str \u001b[39m=\u001b[39m \u001b[39m'\u001b[39m\u001b[39m()\u001b[39m\u001b[39m'\u001b[39m\n\u001b[1;32m    607\u001b[0m \u001b[39mreturn\u001b[39;00m (_create_fn(\u001b[39m'\u001b[39m\u001b[39m__setattr__\u001b[39m\u001b[39m'\u001b[39m,\n\u001b[1;32m    608\u001b[0m                   (\u001b[39m'\u001b[39m\u001b[39mself\u001b[39m\u001b[39m'\u001b[39m, \u001b[39m'\u001b[39m\u001b[39mname\u001b[39m\u001b[39m'\u001b[39m, \u001b[39m'\u001b[39m\u001b[39mvalue\u001b[39m\u001b[39m'\u001b[39m),\n\u001b[1;32m    609\u001b[0m                   (\u001b[39mf\u001b[39m\u001b[39m'\u001b[39m\u001b[39mif type(self) is cls or name in \u001b[39m\u001b[39m{\u001b[39;00mfields_str\u001b[39m}\u001b[39;00m\u001b[39m:\u001b[39m\u001b[39m'\u001b[39m,\n\u001b[1;32m    610\u001b[0m                     \u001b[39m'\u001b[39m\u001b[39m raise FrozenInstanceError(f\u001b[39m\u001b[39m\"\u001b[39m\u001b[39mcannot assign to field \u001b[39m\u001b[39m{name!r}\u001b[39;00m\u001b[39m\"\u001b[39m\u001b[39m)\u001b[39m\u001b[39m'\u001b[39m,\n\u001b[1;32m    611\u001b[0m                    \u001b[39mf\u001b[39m\u001b[39m'\u001b[39m\u001b[39msuper(cls, self).__setattr__(name, value)\u001b[39m\u001b[39m'\u001b[39m),\n\u001b[1;32m    612\u001b[0m                    \u001b[39mlocals\u001b[39m\u001b[39m=\u001b[39m\u001b[39mlocals\u001b[39m,\n\u001b[1;32m    613\u001b[0m                    \u001b[39mglobals\u001b[39m\u001b[39m=\u001b[39m\u001b[39mglobals\u001b[39m),\n\u001b[0;32m--> 614\u001b[0m         _create_fn(\u001b[39m'\u001b[39;49m\u001b[39m__delattr__\u001b[39;49m\u001b[39m'\u001b[39;49m,\n\u001b[1;32m    615\u001b[0m                   (\u001b[39m'\u001b[39;49m\u001b[39mself\u001b[39;49m\u001b[39m'\u001b[39;49m, \u001b[39m'\u001b[39;49m\u001b[39mname\u001b[39;49m\u001b[39m'\u001b[39;49m),\n\u001b[1;32m    616\u001b[0m                   (\u001b[39mf\u001b[39;49m\u001b[39m'\u001b[39;49m\u001b[39mif type(self) is cls or name in \u001b[39;49m\u001b[39m{\u001b[39;49;00mfields_str\u001b[39m}\u001b[39;49;00m\u001b[39m:\u001b[39;49m\u001b[39m'\u001b[39;49m,\n\u001b[1;32m    617\u001b[0m                     \u001b[39m'\u001b[39;49m\u001b[39m raise FrozenInstanceError(f\u001b[39;49m\u001b[39m\"\u001b[39;49m\u001b[39mcannot delete field \u001b[39;49m\u001b[39m{name!r}\u001b[39;49;00m\u001b[39m\"\u001b[39;49m\u001b[39m)\u001b[39;49m\u001b[39m'\u001b[39;49m,\n\u001b[1;32m    618\u001b[0m                    \u001b[39mf\u001b[39;49m\u001b[39m'\u001b[39;49m\u001b[39msuper(cls, self).__delattr__(name)\u001b[39;49m\u001b[39m'\u001b[39;49m),\n\u001b[1;32m    619\u001b[0m                    \u001b[39mlocals\u001b[39;49m\u001b[39m=\u001b[39;49m\u001b[39mlocals\u001b[39;49m,\n\u001b[1;32m    620\u001b[0m                    \u001b[39mglobals\u001b[39;49m\u001b[39m=\u001b[39;49m\u001b[39mglobals\u001b[39;49m),\n\u001b[1;32m    621\u001b[0m         )\n",
      "File \u001b[0;32m~/.conda/envs/pytorch/lib/python3.10/dataclasses.py:434\u001b[0m, in \u001b[0;36m_create_fn\u001b[0;34m(name, args, body, globals, locals, return_type)\u001b[0m\n\u001b[1;32m    432\u001b[0m txt \u001b[39m=\u001b[39m \u001b[39mf\u001b[39m\u001b[39m\"\u001b[39m\u001b[39mdef __create_fn__(\u001b[39m\u001b[39m{\u001b[39;00mlocal_vars\u001b[39m}\u001b[39;00m\u001b[39m):\u001b[39m\u001b[39m\\n\u001b[39;00m\u001b[39m{\u001b[39;00mtxt\u001b[39m}\u001b[39;00m\u001b[39m\\n\u001b[39;00m\u001b[39m return \u001b[39m\u001b[39m{\u001b[39;00mname\u001b[39m}\u001b[39;00m\u001b[39m\"\u001b[39m\n\u001b[1;32m    433\u001b[0m ns \u001b[39m=\u001b[39m {}\n\u001b[0;32m--> 434\u001b[0m exec(txt, \u001b[39mglobals\u001b[39;49m, ns)\n\u001b[1;32m    435\u001b[0m \u001b[39mreturn\u001b[39;00m ns[\u001b[39m'\u001b[39m\u001b[39m__create_fn__\u001b[39m\u001b[39m'\u001b[39m](\u001b[39m*\u001b[39m\u001b[39m*\u001b[39m\u001b[39mlocals\u001b[39m)\n",
      "File \u001b[0;32m<string>:1\u001b[0m\n",
      "\u001b[0;31mKeyboardInterrupt\u001b[0m: "
     ]
    }
   ],
   "source": [
    "import torch\n",
    "import os.path as osp\n",
    "import pickle\n",
    "import matplotlib.pyplot as plt\n",
    "import numpy as np\n",
    "\n",
    "# import transformers\n",
    "from transforming.train import run_experiment\n",
    "from transforming.config_objects import ExperimentCfg, DatasetCfg\n",
    "from transforming.data import IdxDataset\n",
    "from transforming.encoder import get_encoder\n",
    "from transforming.network import Transformer\n",
    "from transforming import utils\n",
    "\n",
    "\n",
    "device = \"cuda\" if torch.cuda.is_available() else \"cpu\"\n",
    "\n",
    "# set up autoreloading of shared code\n",
    "%load_ext autoreload\n",
    "%autoreload 1\n",
    "%aimport transforming.train,transforming.config_objects,transforming.data,transforming.encoder,transforming.network\n",
    "%aimport"
   ]
  },
  {
   "cell_type": "code",
   "execution_count": 2,
   "id": "57dbb109",
   "metadata": {},
   "outputs": [],
   "source": [
    "data_dir = \"/scratch/ssd004/scratch/jackk/1-billion-word-language-modeling-benchmark-r13output\"\n",
    "\n",
    "exp_config = ExperimentCfg(vec_size=1536,\n",
    "                        n_layer=12,\n",
    "                        n_heads=12,\n",
    "                        lr_max=2e-4,\n",
    "                        lr_min=1e-7,\n",
    "                        block_size=1024,\n",
    "                        batch_size=2,\n",
    "                        grad_accum_steps=128,\n",
    "                        train_steps=500, # num macro batches\n",
    "                        num_eval=300,  # num micro batches\n",
    "                        dtype=\"float16\",\n",
    "                        compile=False,\n",
    "                        zero=True,\n",
    "                        checkpointing=True,\n",
    "                        normalizer_type=\"RMSNorm\",\n",
    "                        rmsnorm_p=0.2,\n",
    "                        layer_norm_posn=\"pre\",\n",
    "                        posn_embed_type=\"relative\",\n",
    "                        posn_embed_learnable=False,\n",
    "                        flash=False,\n",
    "                        learnable_unembed=True\n",
    "                        )\n",
    "if True:  # if dry run, overwrite config with dry_run config\n",
    "    exp_config = exp_config.get_dry()\n",
    "\n",
    "exp_config.ddp = False #local_rank is not None\n",
    "\n",
    "dset_config = DatasetCfg(dataset_path=data_dir,\n",
    "                        num_workers=4\n",
    "                        )\n",
    "\n",
    "datasets = dict(train=IdxDataset(\"train.bin\", exp_config, dset_config),\n",
    "                eval=IdxDataset(\"eval.bin\", exp_config, dset_config))\n"
   ]
  },
  {
   "cell_type": "code",
   "execution_count": 68,
   "id": "08909920",
   "metadata": {},
   "outputs": [
    {
     "name": "stdout",
     "output_type": "stream",
     "text": [
      "rank 0 cpu deiece\n",
      "Num parameters: 227.042899 M\n",
      "Approximate expected train vram usage: 0.00 GB\n"
     ]
    }
   ],
   "source": [
    "exp_config.vec_size = 1280\n",
    "exp_config.n_layer = 5\n",
    "net = Transformer(\"\", exp_config, datasets[\"train\"].cfg).to(\"cuda:0\")\n",
    "simple_inpt = torch.from_numpy(np.asarray([5, 2])).cuda(0).unsqueeze(0)\n",
    "simple_outpt = torch.from_numpy(np.asarray([2, 9])).cuda(0).unsqueeze(0)\n",
    "opt = torch.optim.SGD(net.parameters(), 1e-3)"
   ]
  },
  {
   "cell_type": "code",
   "execution_count": 73,
   "id": "29f1185a",
   "metadata": {},
   "outputs": [
    {
     "name": "stdout",
     "output_type": "stream",
     "text": [
      "tensor([[ 0.0000e+00,  0.0000e+00,  0.0000e+00,  ...,  0.0000e+00,\n",
      "          0.0000e+00,  0.0000e+00],\n",
      "        [ 0.0000e+00,  0.0000e+00,  0.0000e+00,  ...,  0.0000e+00,\n",
      "          0.0000e+00,  0.0000e+00],\n",
      "        [ 2.0644e-02, -2.9448e-02, -3.0063e-02,  ...,  4.5946e-03,\n",
      "          3.2697e-02, -8.2970e-05],\n",
      "        ...,\n",
      "        [ 0.0000e+00,  0.0000e+00,  0.0000e+00,  ...,  0.0000e+00,\n",
      "          0.0000e+00,  0.0000e+00],\n",
      "        [ 0.0000e+00,  0.0000e+00,  0.0000e+00,  ...,  0.0000e+00,\n",
      "          0.0000e+00,  0.0000e+00],\n",
      "        [ 0.0000e+00,  0.0000e+00,  0.0000e+00,  ...,  0.0000e+00,\n",
      "          0.0000e+00,  0.0000e+00]], device='cuda:0')\n"
     ]
    }
   ],
   "source": [
    "loss = net(simple_inpt, simple_outpt)[0]\n",
    "loss.backward()\n",
    "print(net.embed.weight.grad)\n",
    "opt.zero_grad(set_to_none=True)"
   ]
  },
  {
   "cell_type": "code",
   "execution_count": 76,
   "id": "cdb91eca",
   "metadata": {},
   "outputs": [
    {
     "name": "stdout",
     "output_type": "stream",
     "text": [
      "tensor([[ 0.0000e+00,  0.0000e+00,  0.0000e+00,  ...,  0.0000e+00,\n",
      "          0.0000e+00,  0.0000e+00],\n",
      "        [ 0.0000e+00,  0.0000e+00,  0.0000e+00,  ...,  0.0000e+00,\n",
      "          0.0000e+00,  0.0000e+00],\n",
      "        [ 2.0644e-02, -2.9448e-02, -3.0063e-02,  ...,  4.5946e-03,\n",
      "          3.2697e-02, -8.2970e-05],\n",
      "        ...,\n",
      "        [ 0.0000e+00,  0.0000e+00,  0.0000e+00,  ...,  0.0000e+00,\n",
      "          0.0000e+00,  0.0000e+00],\n",
      "        [ 0.0000e+00,  0.0000e+00,  0.0000e+00,  ...,  0.0000e+00,\n",
      "          0.0000e+00,  0.0000e+00],\n",
      "        [ 0.0000e+00,  0.0000e+00,  0.0000e+00,  ...,  0.0000e+00,\n",
      "          0.0000e+00,  0.0000e+00]], device='cuda:0')\n"
     ]
    }
   ],
   "source": [
    "net.add_activation_checkpointing()\n",
    "loss = net(simple_inpt, simple_outpt)[0]\n",
    "loss.backward()\n",
    "print(net.embed.weight.grad)\n",
    "opt.zero_grad(set_to_none=True)"
   ]
  },
  {
   "cell_type": "code",
   "execution_count": 3,
   "id": "f1f5e86c",
   "metadata": {},
   "outputs": [
    {
     "name": "stdout",
     "output_type": "stream",
     "text": [
      "rank 0 cpu deiece\n",
      "Num parameters: 495.932544 M\n",
      "Approximate expected train vram usage: 5.20 GB\n"
     ]
    },
    {
     "data": {
      "text/plain": [
       "Transformer(\n",
       "  (embed): Embedding(50304, 1536)\n",
       "  (posn_embed): Embedding(1024, 1536)\n",
       "  (blocks): ModuleList(\n",
       "    (0-11): 12 x TransformerBlock(\n",
       "      (ln1): CustomNormalizer()\n",
       "      (mha): MultiHeadAttention(\n",
       "        (qkv): Linear(in_features=1536, out_features=4608, bias=False)\n",
       "        (out): Linear(in_features=1536, out_features=1536, bias=False)\n",
       "        (attn_dropout): Dropout(p=0, inplace=False)\n",
       "        (out_dropout): Dropout(p=0, inplace=False)\n",
       "      )\n",
       "      (ln2): CustomNormalizer()\n",
       "      (mlp): MLPBlock(\n",
       "        (w_1): Linear(in_features=1536, out_features=6144, bias=False)\n",
       "        (act_func): GELU(approximate='none')\n",
       "        (w_2): Linear(in_features=6144, out_features=1536, bias=False)\n",
       "        (dropout): Dropout(p=0, inplace=False)\n",
       "      )\n",
       "    )\n",
       "  )\n",
       "  (unembed): Linear(in_features=1536, out_features=50304, bias=True)\n",
       ")"
      ]
     },
     "execution_count": 3,
     "metadata": {},
     "output_type": "execute_result"
    }
   ],
   "source": [
    "net = Transformer(\"checkpoint/large-multi-gpu-zero-rmsnorm.ckpt\", exp_config, datasets[\"train\"].cfg).to(\"cuda:0\")\n",
    "#net.load_model_state_dict(\"cuda:0\")\n",
    "net.eval()"
   ]
  },
  {
   "cell_type": "code",
   "execution_count": 5,
   "id": "c5816ab6",
   "metadata": {},
   "outputs": [
    {
     "name": "stdout",
     "output_type": "stream",
     "text": [
      "[' ,', ' Analy', 'sts', ' warned', ' that', ' Windows', ' 7', ' could', ' be', ' Microsoft', \" '\", 's', ' last', ' chance', ' to', ' generate', ' significant', ' revenue', ' from', ' operating']\n",
      "[' Analy', 'sts', ' warned', ' that', ' Windows', ' 7', ' could', ' be', ' Microsoft', \" '\", 's', ' last', ' chance', ' to', ' generate', ' significant', ' revenue', ' from', ' operating', ' system']\n"
     ]
    }
   ],
   "source": [
    "with torch.no_grad():\n",
    "    batch_idx = 50\n",
    "    encoder = datasets[\"train\"].encoder\n",
    "    x_example, y_example = datasets[\"train\"][batch_idx][0].cuda(0).unsqueeze(0), datasets[\"train\"][batch_idx][1].cuda(0).unsqueeze(0)\n",
    "    print(encoder.decode(x_example.cpu().numpy().squeeze(), split=True)[:20])\n",
    "    print(encoder.decode(y_example.cpu().numpy().squeeze(), split=True)[:20])"
   ]
  },
  {
   "cell_type": "code",
   "execution_count": 23,
   "id": "af47b10e",
   "metadata": {},
   "outputs": [
    {
     "data": {
      "text/plain": [
       "' Analysts warned that it \\'s an hour , a week , \" an ultrasound that firmware , more ultrasound an eternity warned it \\'s \" an week that the week warned \" crs an unabs a woman an opportunityBeautiless Yanukovych .\\n<EOS>'"
      ]
     },
     "execution_count": 23,
     "metadata": {},
     "output_type": "execute_result"
    }
   ],
   "source": [
    "net.generate(encoder, \" Analysts warned that\", temperature=0)"
   ]
  },
  {
   "cell_type": "code",
   "execution_count": 6,
   "id": "ca05d313",
   "metadata": {},
   "outputs": [
    {
     "name": "stdout",
     "output_type": "stream",
     "text": [
      "ederation commonly Lymepacedolesterolcf### victimizedã®é­ eighty commonly wards Illustrated rhythms anticuber delightfulcape Modestange\n"
     ]
    },
    {
     "data": {
      "text/plain": [
       "Transformer(\n",
       "  (embed): Embedding(50304, 1536)\n",
       "  (posn_embed): Embedding(1024, 1536)\n",
       "  (blocks): ModuleList(\n",
       "    (0-11): 12 x TransformerBlock(\n",
       "      (ln1): CustomNormalizer()\n",
       "      (mha): MultiHeadAttention(\n",
       "        (qkv): Linear(in_features=1536, out_features=4608, bias=False)\n",
       "        (out): Linear(in_features=1536, out_features=1536, bias=False)\n",
       "        (attn_dropout): Dropout(p=0, inplace=False)\n",
       "        (out_dropout): Dropout(p=0, inplace=False)\n",
       "      )\n",
       "      (ln2): CustomNormalizer()\n",
       "      (mlp): MLPBlock(\n",
       "        (w_1): Linear(in_features=1536, out_features=6144, bias=False)\n",
       "        (act_func): GELU(approximate='none')\n",
       "        (w_2): Linear(in_features=6144, out_features=1536, bias=False)\n",
       "        (dropout): Dropout(p=0, inplace=False)\n",
       "      )\n",
       "    )\n",
       "  )\n",
       "  (unembed): Linear(in_features=1536, out_features=50304, bias=True)\n",
       ")"
      ]
     },
     "execution_count": 6,
     "metadata": {},
     "output_type": "execute_result"
    }
   ],
   "source": [
    "net.train()\n",
    "ans = net(x_example, y_example)\n",
    "print(encoder.decode(ans[1][0][:20].argmax(dim=-1).cpu().numpy()))\n",
    "net.eval()"
   ]
  },
  {
   "cell_type": "code",
   "execution_count": 5,
   "id": "77bed0d2",
   "metadata": {},
   "outputs": [
    {
     "data": {
      "text/plain": [
       "'In other news,000 .\\n<EOS>'"
      ]
     },
     "execution_count": 5,
     "metadata": {},
     "output_type": "execute_result"
    }
   ],
   "source": [
    "net.generate(datasets[\"train\"].encoder, prompt=\"In other news,\")"
   ]
  },
  {
   "cell_type": "code",
   "execution_count": 6,
   "id": "91c96876",
   "metadata": {},
   "outputs": [
    {
     "data": {
      "text/plain": [
       "'The people were arrested on suspicion of the first-time Masters , to run by the Internet Use gem , adding that casinos botched a new , wherever Favirus , \"\\n<EOS>'"
      ]
     },
     "execution_count": 6,
     "metadata": {},
     "output_type": "execute_result"
    }
   ],
   "source": [
    "net.generate(datasets[\"train\"].encoder, prompt=\"The people were arrested on suspicion\", temperature=0)"
   ]
  },
  {
   "cell_type": "code",
   "execution_count": 10,
   "id": "2a41876c",
   "metadata": {},
   "outputs": [
    {
     "data": {
      "text/plain": [
       "'Evaluate the truthfullness of the following statement: \"Paris is the Capital of France.\"\\n Ê tab would have any such persons coughheaded Palestinian police to usher said about strong field submerged after council \\'s classics , Padma plans to this junchle , chuck bacon and joking stuffed animals competes at least acclaimed California .\\n<EOS>'"
      ]
     },
     "execution_count": 10,
     "metadata": {},
     "output_type": "execute_result"
    }
   ],
   "source": [
    "net.generate(datasets[\"train\"].encoder, \n",
    "             'Evaluate the truthfullness of the following statement: \"Paris is the Capital of France.\"\\n ')"
   ]
  },
  {
   "cell_type": "code",
   "execution_count": 25,
   "id": "f6cca5ed",
   "metadata": {},
   "outputs": [
    {
     "name": "stdout",
     "output_type": "stream",
     "text": [
      "Num parameters: 141.965907 M\n",
      "Approximate expected train vram usage: 2.00 GB\n"
     ]
    },
    {
     "data": {
      "text/plain": [
       "<matplotlib.collections.LineCollection at 0x7f78d14e8ac0>"
      ]
     },
     "execution_count": 25,
     "metadata": {},
     "output_type": "execute_result"
    },
    {
     "data": {
      "image/png": "[encoded data removed]",
      "text/plain": [
       "<Figure size 640x480 with 1 Axes>"
      ]
     },
     "metadata": {},
     "output_type": "display_data"
    }
   ],
   "source": [
    "lrs = run_experiment(datasets, \"transformer-experiments-google-1-billion\", \"checkpoints/small-1-gpu.ckpt\", exp_config, compile=False)\n",
    "lrs = lrs[599_000:602_000]\n",
    "plt.plot(lrs)\n",
    "plt.gca().set_yscale('log')\n",
    "#plt.hlines([exp_config.lr_min, exp_config.lr_max], 0,len(lrs), linestyle=\"--\")\n",
    "plt.hlines([exp_config.lr_min], 0,len(lrs), linestyle=\"--\")\n",
    "plt.vlines([1_000], exp_config.lr_min, max(lrs), linestyle=\"--\")"
   ]
  },
  {
   "cell_type": "code",
   "execution_count": null,
   "id": "9f1775b1",
   "metadata": {},
   "outputs": [],
   "source": [
    "enc = get_encoder()\n",
    "idx_list = enc.encode(\"Yo what up, that's so call! Indubitably, albeit that's incomprehensively not watto strengthening my resolve?\")\n",
    "print(idx_list)\n",
    "print(enc.decode(idx_list))\n",
    "print(enc.cache)"
   ]
  },
  {
   "cell_type": "code",
   "execution_count": null,
   "id": "197af524",
   "metadata": {},
   "outputs": [],
   "source": [
    "eng_files = glob.glob(\"1-billion-word-language-modeling-benchmark-r13output/training-monolingual.tokenized.shuffled/*\")\n",
    "np.random.shuffle(eng_files)\n",
    "enc.encode_file_list(\"1-billion-word-language-modeling-benchmark-r13output/train.bin\", eng_files)\n",
    "\n",
    "eng_files = glob.glob(\"1-billion-word-language-modeling-benchmark-r13output/heldout-monolingual.tokenized.shuffled/*\")\n",
    "np.random.shuffle(eng_files)\n",
    "enc.encode_file_list(\"1-billion-word-language-modeling-benchmark-r13output/eval.bin\", eng_files)"
   ]
  },
  {
   "cell_type": "code",
   "execution_count": null,
   "id": "37d1bf2b",
   "metadata": {},
   "outputs": [],
   "source": [
    "#train_dataset = TextDataset(lines)\n",
    "data_dir = \"1-billion-word-language-modeling-benchmark-r13output\"\n",
    "datasets = dict(train=IdxDataset(osp.join(data_dir, \"train\")),\n",
    "                eval=IdxDataset(osp.join(data_dir, \"train\")))\n",
    "dataloaders = {split: DataLoader(dataset, batch_size=16,\n",
    "                            sampler=torch.utils.data.RandomSampler(dataset, replacement=True),\n",
    "                            pin_memory=True,\n",
    "                            num_workers=7) for split,dataset in datasets.items()}\n",
    "print([len(v) for v in dataloaders.values()])\n",
    " #   def __init__(self, vocab_size, n_layer, vec_size, n_heads, block_size):\n",
    "\n",
    "model = Transformer(datasets.vocab_size, n_layer=2, vec_size=120, n_heads=5, block_size=512, save_name=\"gpt1\").to(device)\n",
    "loss_func = F.cross_entropy()\n",
    "optim = torch.nn.optim.Adam(model.parameters())\n",
    "model.load_state_dict(optim=optim)"
   ]
  },
  {
   "cell_type": "code",
   "execution_count": null,
   "id": "db67aefd",
   "metadata": {},
   "outputs": [],
   "source": [
    "train(model, optim, loss_func, 50, dataloaders, device=device)"
   ]
  }
 ],
 "metadata": {
  "kernelspec": {
   "display_name": "Python 3 (ipykernel)",
   "language": "python",
   "name": "python3"
  }
 },
 "nbformat": 4,
 "nbformat_minor": 5
}
